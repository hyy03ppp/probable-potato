{
 "cells": [
  {
   "cell_type": "markdown",
   "metadata": {},
   "source": [
    "# 0.开始之前"
   ]
  },
  {
   "cell_type": "markdown",
   "metadata": {},
   "source": [
    "关于如何学习numpy和pandas。\n",
    "\n",
    "首先明确一点，先把所有的用法学得很熟练了之后再投入实践的做法是效率极其低下的。\n",
    "高效的做法是，先了解最基本的概念，再明了numpy和pandas有什么功能可供使用，在实践中遇到实际需求时查阅文档或者利用搜索引擎临时学习代码具体如何编写。"
   ]
  },
  {
   "cell_type": "markdown",
   "metadata": {},
   "source": [
    "# 1.numpy "
   ]
  },
  {
   "cell_type": "markdown",
   "metadata": {},
   "source": [
    "官方文档地址：\n",
    "\n",
    "https://numpy.org/doc/stable/user"
   ]
  },
  {
   "cell_type": "code",
   "execution_count": 56,
   "metadata": {
    "ExecuteTime": {
     "end_time": "2024-04-01T10:24:54.188717Z",
     "start_time": "2024-04-01T10:24:54.185195Z"
    }
   },
   "outputs": [],
   "source": [
    "import numpy as np"
   ]
  },
  {
   "cell_type": "markdown",
   "metadata": {},
   "source": [
    "## numpy 简介"
   ]
  },
  {
   "cell_type": "markdown",
   "metadata": {},
   "source": [
    "Numpy,也即numeric python,numpy官方文档的介绍如下：\n",
    "\n",
    "NumPy是Python中科学计算的基本包。它是一个Python库，提供了多维数组对象，各种派生对象(如掩码数组和矩阵)，以及用于数组快速操作的各种例程，包括数学，逻辑，形状操作，排序，选择，I/O，离散傅里叶变换，基本线性代数，基本统计操作，随机模拟等等。"
   ]
  },
  {
   "cell_type": "markdown",
   "metadata": {},
   "source": [
    "### fast！"
   ]
  },
  {
   "cell_type": "code",
   "execution_count": 218,
   "metadata": {
    "ExecuteTime": {
     "end_time": "2024-04-01T14:03:52.502920Z",
     "start_time": "2024-04-01T14:03:52.313181Z"
    }
   },
   "outputs": [],
   "source": [
    "ls1 = [i for i in range(1000000)]\n",
    "ls2 = [i for i in range(1000000)]\n",
    "\n",
    "arr1 = np.arange(10000000)\n",
    "arr2 = np.arange(10000000)"
   ]
  },
  {
   "cell_type": "code",
   "execution_count": 219,
   "metadata": {
    "ExecuteTime": {
     "end_time": "2024-04-01T14:03:52.914105Z",
     "start_time": "2024-04-01T14:03:52.687525Z"
    }
   },
   "outputs": [
    {
     "name": "stdout",
     "output_type": "stream",
     "text": [
      "CPU times: total: 141 ms\n",
      "Wall time: 220 ms\n"
     ]
    }
   ],
   "source": [
    "%%time\n",
    "ls3 = [ls1[i] + ls2[i] for i in range(len(ls1))]"
   ]
  },
  {
   "cell_type": "code",
   "execution_count": 220,
   "metadata": {
    "ExecuteTime": {
     "end_time": "2024-04-01T14:03:53.325900Z",
     "start_time": "2024-04-01T14:03:53.296738Z"
    },
    "scrolled": true
   },
   "outputs": [
    {
     "name": "stdout",
     "output_type": "stream",
     "text": [
      "CPU times: total: 15.6 ms\n",
      "Wall time: 23 ms\n"
     ]
    }
   ],
   "source": [
    "%%time\n",
    "arr3 = arr1+arr2"
   ]
  },
  {
   "cell_type": "markdown",
   "metadata": {},
   "source": [
    "### convenient！"
   ]
  },
  {
   "cell_type": "code",
   "execution_count": 221,
   "metadata": {
    "ExecuteTime": {
     "end_time": "2024-04-01T14:03:54.872665Z",
     "start_time": "2024-04-01T14:03:54.866622Z"
    }
   },
   "outputs": [],
   "source": [
    "#将数组的每个元素变成其自然对数，分别使用list和numpy的array\n",
    "ls = [i for i in range(1,11)]\n",
    "arr = np.array(ls)"
   ]
  },
  {
   "cell_type": "code",
   "execution_count": 222,
   "metadata": {
    "ExecuteTime": {
     "end_time": "2024-04-01T14:03:55.758398Z",
     "start_time": "2024-04-01T14:03:55.752130Z"
    }
   },
   "outputs": [
    {
     "data": {
      "text/plain": [
       "[0.0,\n",
       " 0.6931471805599453,\n",
       " 1.0986122886681098,\n",
       " 1.3862943611198906,\n",
       " 1.6094379124341003,\n",
       " 1.791759469228055,\n",
       " 1.9459101490553132,\n",
       " 2.0794415416798357,\n",
       " 2.1972245773362196,\n",
       " 2.302585092994046]"
      ]
     },
     "execution_count": 222,
     "metadata": {},
     "output_type": "execute_result"
    }
   ],
   "source": [
    "import math\n",
    "for i in range(10):\n",
    "    ls[i] = math.log(ls[i])\n",
    "ls"
   ]
  },
  {
   "cell_type": "code",
   "execution_count": 223,
   "metadata": {
    "ExecuteTime": {
     "end_time": "2024-04-01T14:03:56.448982Z",
     "start_time": "2024-04-01T14:03:56.442939Z"
    }
   },
   "outputs": [
    {
     "data": {
      "text/plain": [
       "array([0.        , 0.69314718, 1.09861229, 1.38629436, 1.60943791,\n",
       "       1.79175947, 1.94591015, 2.07944154, 2.19722458, 2.30258509])"
      ]
     },
     "execution_count": 223,
     "metadata": {},
     "output_type": "execute_result"
    }
   ],
   "source": [
    "np.log(arr)"
   ]
  },
  {
   "cell_type": "markdown",
   "metadata": {},
   "source": [
    "使用预编译好的C代码实现向量化，没有任何显式的循环和索引\n"
   ]
  },
  {
   "cell_type": "markdown",
   "metadata": {},
   "source": [
    "## 1.2 ndarray及基本用法"
   ]
  },
  {
   "cell_type": "markdown",
   "metadata": {},
   "source": [
    "NumPy的主要对象是ndarray。它是一个元素表（通常是数字），所有类型都相同，由非负整数元组索引。"
   ]
  },
  {
   "cell_type": "markdown",
   "metadata": {},
   "source": [
    "### 属性 方法"
   ]
  },
  {
   "cell_type": "code",
   "execution_count": 67,
   "metadata": {
    "ExecuteTime": {
     "end_time": "2024-04-01T10:37:53.537853Z",
     "start_time": "2024-04-01T10:37:53.533408Z"
    }
   },
   "outputs": [],
   "source": [
    "arr = np.array([[ 1., 0., 0.],\n",
    " [ 0., 1., 2.]]\n",
    ")"
   ]
  },
  {
   "cell_type": "code",
   "execution_count": 68,
   "metadata": {
    "ExecuteTime": {
     "end_time": "2024-04-01T10:37:54.027473Z",
     "start_time": "2024-04-01T10:37:54.021974Z"
    }
   },
   "outputs": [
    {
     "name": "stdout",
     "output_type": "stream",
     "text": [
      "2\n"
     ]
    }
   ],
   "source": [
    "# ndarray.ndim - 数组的轴(维度)的个数\n",
    "print(arr.ndim)"
   ]
  },
  {
   "cell_type": "code",
   "execution_count": 69,
   "metadata": {
    "ExecuteTime": {
     "end_time": "2024-04-01T10:37:54.428590Z",
     "start_time": "2024-04-01T10:37:54.424789Z"
    }
   },
   "outputs": [
    {
     "name": "stdout",
     "output_type": "stream",
     "text": [
      "(2, 3)\n"
     ]
    }
   ],
   "source": [
    "# ndarray.shape - 一个表示数组在每个维度上大小的整数元组\n",
    "print(arr.shape)"
   ]
  },
  {
   "cell_type": "code",
   "execution_count": 70,
   "metadata": {
    "ExecuteTime": {
     "end_time": "2024-04-01T10:37:54.780030Z",
     "start_time": "2024-04-01T10:37:54.775372Z"
    }
   },
   "outputs": [
    {
     "name": "stdout",
     "output_type": "stream",
     "text": [
      "6\n"
     ]
    }
   ],
   "source": [
    "# ndarray.size - 数组元素的总数\n",
    "print(arr.size)"
   ]
  },
  {
   "cell_type": "code",
   "execution_count": 71,
   "metadata": {
    "ExecuteTime": {
     "end_time": "2024-04-01T10:37:55.107761Z",
     "start_time": "2024-04-01T10:37:55.102036Z"
    }
   },
   "outputs": [
    {
     "name": "stdout",
     "output_type": "stream",
     "text": [
      "float64\n"
     ]
    }
   ],
   "source": [
    "# ndarray.dtype - 数组中元素的类型\n",
    "print(arr.dtype)"
   ]
  },
  {
   "cell_type": "code",
   "execution_count": 72,
   "metadata": {
    "ExecuteTime": {
     "end_time": "2024-04-01T10:37:55.491122Z",
     "start_time": "2024-04-01T10:37:55.485673Z"
    }
   },
   "outputs": [
    {
     "name": "stdout",
     "output_type": "stream",
     "text": [
      "8\n"
     ]
    }
   ],
   "source": [
    "# ndarray.itemsize - 每个元素的字节大小\n",
    "print(arr.itemsize)"
   ]
  },
  {
   "cell_type": "code",
   "execution_count": 79,
   "metadata": {
    "ExecuteTime": {
     "end_time": "2024-04-01T12:44:41.016071Z",
     "start_time": "2024-04-01T12:44:41.007566Z"
    }
   },
   "outputs": [
    {
     "data": {
      "text/plain": [
       "array([[1., 0.],\n",
       "       [0., 1.],\n",
       "       [0., 2.]])"
      ]
     },
     "execution_count": 79,
     "metadata": {},
     "output_type": "execute_result"
    }
   ],
   "source": [
    "#转置\n",
    "arr.T"
   ]
  },
  {
   "cell_type": "code",
   "execution_count": 82,
   "metadata": {
    "ExecuteTime": {
     "end_time": "2024-04-01T12:46:02.248010Z",
     "start_time": "2024-04-01T12:46:02.241211Z"
    }
   },
   "outputs": [
    {
     "data": {
      "text/plain": [
       "array([[1.],\n",
       "       [0.],\n",
       "       [0.],\n",
       "       [0.],\n",
       "       [1.],\n",
       "       [2.]])"
      ]
     },
     "execution_count": 82,
     "metadata": {},
     "output_type": "execute_result"
    }
   ],
   "source": [
    "#改变形状\n",
    "arr.reshape(6, 1)"
   ]
  },
  {
   "cell_type": "code",
   "execution_count": 83,
   "metadata": {
    "ExecuteTime": {
     "end_time": "2024-04-01T12:46:03.719296Z",
     "start_time": "2024-04-01T12:46:03.712681Z"
    }
   },
   "outputs": [
    {
     "data": {
      "text/plain": [
       "array([1., 0., 0., 0., 1., 2.])"
      ]
     },
     "execution_count": 83,
     "metadata": {},
     "output_type": "execute_result"
    }
   ],
   "source": [
    "#将多维数组转换为一维数组\n",
    "arr.flatten()"
   ]
  },
  {
   "cell_type": "markdown",
   "metadata": {},
   "source": [
    "### 创建array"
   ]
  },
  {
   "cell_type": "code",
   "execution_count": 84,
   "metadata": {
    "ExecuteTime": {
     "end_time": "2024-04-01T12:47:28.721239Z",
     "start_time": "2024-04-01T12:47:28.708573Z"
    }
   },
   "outputs": [
    {
     "data": {
      "text/plain": [
       "array([[1.5, 2. , 3. ],\n",
       "       [4. , 5. , 6. ]])"
      ]
     },
     "execution_count": 84,
     "metadata": {},
     "output_type": "execute_result"
    }
   ],
   "source": [
    "#使用np.array将列表、元组等序列类型的数据转换为数组\n",
    "np.array([(1.5,2,3), (4,5,6)])"
   ]
  },
  {
   "cell_type": "code",
   "execution_count": 86,
   "metadata": {
    "ExecuteTime": {
     "end_time": "2024-04-01T12:47:53.073855Z",
     "start_time": "2024-04-01T12:47:53.066587Z"
    }
   },
   "outputs": [
    {
     "data": {
      "text/plain": [
       "array([[1., 1., 1.],\n",
       "       [1., 1., 1.]])"
      ]
     },
     "execution_count": 86,
     "metadata": {},
     "output_type": "execute_result"
    }
   ],
   "source": [
    "#使用zeros和ones函数创建数组\n",
    "np.zeros((3, 4))\n",
    "np.ones((2, 3))"
   ]
  },
  {
   "cell_type": "code",
   "execution_count": 88,
   "metadata": {
    "ExecuteTime": {
     "end_time": "2024-04-01T12:48:26.022454Z",
     "start_time": "2024-04-01T12:48:26.016470Z"
    }
   },
   "outputs": [
    {
     "data": {
      "text/plain": [
       "array([2, 4, 6, 8])"
      ]
     },
     "execution_count": 88,
     "metadata": {},
     "output_type": "execute_result"
    }
   ],
   "source": [
    "#用arange函数创建\n",
    "np.arange(2, 9, 2)"
   ]
  },
  {
   "cell_type": "code",
   "execution_count": 89,
   "metadata": {
    "ExecuteTime": {
     "end_time": "2024-04-01T12:49:01.481273Z",
     "start_time": "2024-04-01T12:49:01.471822Z"
    }
   },
   "outputs": [
    {
     "data": {
      "text/plain": [
       "array([0. , 0.1, 0.2, 0.3, 0.4, 0.5, 0.6, 0.7, 0.8, 0.9, 1. ])"
      ]
     },
     "execution_count": 89,
     "metadata": {},
     "output_type": "execute_result"
    }
   ],
   "source": [
    "#linspace函数和logspace函数\n",
    "np.linspace(0, 1, 11)"
   ]
  },
  {
   "cell_type": "code",
   "execution_count": 90,
   "metadata": {
    "ExecuteTime": {
     "end_time": "2024-04-01T12:49:02.111433Z",
     "start_time": "2024-04-01T12:49:02.103482Z"
    }
   },
   "outputs": [
    {
     "data": {
      "text/plain": [
       "array([  1.        ,   3.16227766,  10.        ,  31.6227766 ,\n",
       "       100.        ])"
      ]
     },
     "execution_count": 90,
     "metadata": {},
     "output_type": "execute_result"
    }
   ],
   "source": [
    "np.logspace(0, 2, 5)"
   ]
  },
  {
   "cell_type": "markdown",
   "metadata": {},
   "source": [
    "### 切片索引"
   ]
  },
  {
   "cell_type": "markdown",
   "metadata": {},
   "source": [
    "获取数组中的部分数据或单个数据。"
   ]
  },
  {
   "cell_type": "code",
   "execution_count": 104,
   "metadata": {
    "ExecuteTime": {
     "end_time": "2024-04-01T12:56:18.988248Z",
     "start_time": "2024-04-01T12:56:18.983890Z"
    }
   },
   "outputs": [
    {
     "name": "stdout",
     "output_type": "stream",
     "text": [
      "[2 3]\n"
     ]
    }
   ],
   "source": [
    "#一维数组切片，和list差不多\n",
    "a = np.array([1, 2, 3, 4, 5])\n",
    "print(a[1:3])"
   ]
  },
  {
   "cell_type": "code",
   "execution_count": 103,
   "metadata": {
    "ExecuteTime": {
     "end_time": "2024-04-01T12:55:35.021691Z",
     "start_time": "2024-04-01T12:55:35.015209Z"
    }
   },
   "outputs": [
    {
     "name": "stdout",
     "output_type": "stream",
     "text": [
      "[[2 3]\n",
      " [5 6]]\n"
     ]
    }
   ],
   "source": [
    "#多维数组切片\n",
    "a = np.array([[1, 2, 3], [4, 5, 6], [7, 8, 9]])\n",
    "print(a[0:2, 1:3])"
   ]
  },
  {
   "cell_type": "code",
   "execution_count": 107,
   "metadata": {
    "ExecuteTime": {
     "end_time": "2024-04-01T12:57:02.446092Z",
     "start_time": "2024-04-01T12:57:02.440740Z"
    }
   },
   "outputs": [
    {
     "name": "stdout",
     "output_type": "stream",
     "text": [
      "6\n"
     ]
    }
   ],
   "source": [
    "#多维数组索引\n",
    "a = np.array([[1, 2, 3], [4, 5, 6], [7, 8, 9]])\n",
    "print(a[1, 2])"
   ]
  },
  {
   "cell_type": "code",
   "execution_count": 110,
   "metadata": {
    "ExecuteTime": {
     "end_time": "2024-04-01T12:57:51.118865Z",
     "start_time": "2024-04-01T12:57:51.112544Z"
    }
   },
   "outputs": [
    {
     "name": "stdout",
     "output_type": "stream",
     "text": [
      "[1 3 5]\n"
     ]
    }
   ],
   "source": [
    "#整数数组索引\n",
    "a = np.array([1, 2, 3, 4, 5])\n",
    "print(a[[0, 2, 4]])"
   ]
  },
  {
   "cell_type": "code",
   "execution_count": 111,
   "metadata": {
    "ExecuteTime": {
     "end_time": "2024-04-01T12:57:52.566529Z",
     "start_time": "2024-04-01T12:57:52.560917Z"
    }
   },
   "outputs": [
    {
     "name": "stdout",
     "output_type": "stream",
     "text": [
      "[2 9]\n"
     ]
    }
   ],
   "source": [
    "a = np.array([[1, 2, 3], [4, 5, 6], [7, 8, 9]])\n",
    "print(a[[0, 2], [1, 2]])"
   ]
  },
  {
   "cell_type": "code",
   "execution_count": 112,
   "metadata": {
    "ExecuteTime": {
     "end_time": "2024-04-01T12:58:19.553076Z",
     "start_time": "2024-04-01T12:58:19.546952Z"
    }
   },
   "outputs": [
    {
     "name": "stdout",
     "output_type": "stream",
     "text": [
      "[1 3 5]\n"
     ]
    }
   ],
   "source": [
    "a = np.array([1, 2, 3, 4, 5])\n",
    "b = np.array([True, False, True, False, True])\n",
    "print(a[b])"
   ]
  },
  {
   "cell_type": "code",
   "execution_count": 113,
   "metadata": {
    "ExecuteTime": {
     "end_time": "2024-04-01T12:58:28.812680Z",
     "start_time": "2024-04-01T12:58:28.804689Z"
    }
   },
   "outputs": [
    {
     "name": "stdout",
     "output_type": "stream",
     "text": [
      "[2 9]\n"
     ]
    }
   ],
   "source": [
    "a = np.array([[1, 2, 3], [4, 5, 6], [7, 8, 9]])\n",
    "b = np.array([True, False, True])\n",
    "c = np.array([False, True, True])\n",
    "print(a[b, c])"
   ]
  },
  {
   "cell_type": "markdown",
   "metadata": {},
   "source": [
    "## 广播机制"
   ]
  },
  {
   "cell_type": "code",
   "execution_count": 114,
   "metadata": {
    "ExecuteTime": {
     "end_time": "2024-04-01T13:00:14.653001Z",
     "start_time": "2024-04-01T13:00:14.647813Z"
    }
   },
   "outputs": [
    {
     "name": "stdout",
     "output_type": "stream",
     "text": [
      "[[2 4 6]\n",
      " [5 7 9]]\n"
     ]
    }
   ],
   "source": [
    "a = np.array([[1, 2, 3], [4, 5, 6]])\n",
    "b = np.array([1, 2, 3])\n",
    "c = a + b\n",
    "print(c)"
   ]
  },
  {
   "cell_type": "code",
   "execution_count": 115,
   "metadata": {
    "ExecuteTime": {
     "end_time": "2024-04-01T13:00:27.651102Z",
     "start_time": "2024-04-01T13:00:27.645874Z"
    }
   },
   "outputs": [
    {
     "name": "stdout",
     "output_type": "stream",
     "text": [
      "[3 4 5]\n"
     ]
    }
   ],
   "source": [
    "a = np.array([1, 2, 3])\n",
    "b = 2\n",
    "c = a + b\n",
    "print(c)"
   ]
  },
  {
   "cell_type": "markdown",
   "metadata": {},
   "source": [
    "## 统计函数"
   ]
  },
  {
   "cell_type": "markdown",
   "metadata": {
    "ExecuteTime": {
     "end_time": "2024-04-01T13:02:32.386331Z",
     "start_time": "2024-04-01T13:02:32.381549Z"
    }
   },
   "source": [
    "1、np.mean()\n",
    "\n",
    "2、np.median()\n",
    "\n",
    "3、np.std()\n",
    "\n",
    "4、np.var()\n",
    "\n",
    "5、np.min()\n",
    "\n",
    "6、np.max()\n",
    "\n",
    "7、np.sum()\n",
    "\n",
    "8、np.prod()\n",
    "\n",
    "9、np.percentile()\n",
    "\n",
    "10、np.any()\n",
    "\n",
    "11、np.all()\n",
    "\n",
    "# pandas"
   ]
  },
  {
   "cell_type": "code",
   "execution_count": 117,
   "metadata": {
    "ExecuteTime": {
     "end_time": "2024-04-01T13:09:02.183775Z",
     "start_time": "2024-04-01T13:09:00.167671Z"
    }
   },
   "outputs": [],
   "source": [
    "import pandas as pd"
   ]
  },
  {
   "cell_type": "markdown",
   "metadata": {},
   "source": [
    "官方文档：\n",
    "\n",
    "https://pandas.pydata.org/pandas-docs/stable/getting_started/intro_tutorials"
   ]
  },
  {
   "cell_type": "markdown",
   "metadata": {},
   "source": [
    "## 2.1.pandas简介"
   ]
  },
  {
   "cell_type": "code",
   "execution_count": 119,
   "metadata": {
    "ExecuteTime": {
     "end_time": "2024-04-01T13:09:19.537951Z",
     "start_time": "2024-04-01T13:09:19.516218Z"
    }
   },
   "outputs": [
    {
     "data": {
      "text/html": [
       "<div>\n",
       "<style scoped>\n",
       "    .dataframe tbody tr th:only-of-type {\n",
       "        vertical-align: middle;\n",
       "    }\n",
       "\n",
       "    .dataframe tbody tr th {\n",
       "        vertical-align: top;\n",
       "    }\n",
       "\n",
       "    .dataframe thead th {\n",
       "        text-align: right;\n",
       "    }\n",
       "</style>\n",
       "<table border=\"1\" class=\"dataframe\">\n",
       "  <thead>\n",
       "    <tr style=\"text-align: right;\">\n",
       "      <th></th>\n",
       "      <th>Name</th>\n",
       "      <th>Age</th>\n",
       "      <th>Sex</th>\n",
       "    </tr>\n",
       "  </thead>\n",
       "  <tbody>\n",
       "    <tr>\n",
       "      <th>0</th>\n",
       "      <td>Braund, Mr. Owen Harris</td>\n",
       "      <td>22</td>\n",
       "      <td>male</td>\n",
       "    </tr>\n",
       "    <tr>\n",
       "      <th>1</th>\n",
       "      <td>Allen, Mr. William Henry</td>\n",
       "      <td>35</td>\n",
       "      <td>male</td>\n",
       "    </tr>\n",
       "    <tr>\n",
       "      <th>2</th>\n",
       "      <td>Bonnell, Miss. Elizabeth</td>\n",
       "      <td>58</td>\n",
       "      <td>female</td>\n",
       "    </tr>\n",
       "  </tbody>\n",
       "</table>\n",
       "</div>"
      ],
      "text/plain": [
       "                       Name  Age     Sex\n",
       "0   Braund, Mr. Owen Harris   22    male\n",
       "1  Allen, Mr. William Henry   35    male\n",
       "2  Bonnell, Miss. Elizabeth   58  female"
      ]
     },
     "execution_count": 119,
     "metadata": {},
     "output_type": "execute_result"
    }
   ],
   "source": [
    "#官方文档例子\n",
    "df = pd.DataFrame(\n",
    "    {\n",
    "        \"Name\": [\n",
    "            \"Braund, Mr. Owen Harris\",\n",
    "            \"Allen, Mr. William Henry\",\n",
    "            \"Bonnell, Miss. Elizabeth\",\n",
    "        ],\n",
    "        \"Age\": [22, 35, 58],\n",
    "        \"Sex\": [\"male\", \"male\", \"female\"],\n",
    "    }\n",
    ")\n",
    "df"
   ]
  },
  {
   "cell_type": "markdown",
   "metadata": {},
   "source": [
    "## 2.2.Series及基本用法"
   ]
  },
  {
   "cell_type": "markdown",
   "metadata": {},
   "source": [
    "Series是一种一维数组结构，它由两个部分组成：索引和值。索引是一个标签数组，可以用来标识数据。值可以是任何类型的数据，例如整数、浮点数、字符串等。Series提供了类似于Numpy数组的操作，同时也支持类似于Python字典的操作。"
   ]
  },
  {
   "cell_type": "code",
   "execution_count": 121,
   "metadata": {
    "ExecuteTime": {
     "end_time": "2024-04-01T13:11:24.219007Z",
     "start_time": "2024-04-01T13:11:24.215178Z"
    }
   },
   "outputs": [
    {
     "name": "stdout",
     "output_type": "stream",
     "text": [
      "0    1\n",
      "1    2\n",
      "2    3\n",
      "3    4\n",
      "4    5\n",
      "dtype: int64\n"
     ]
    }
   ],
   "source": [
    "#使用Python列表、Numpy数组或者字典来创建Series。\n",
    "s1 = pd.Series([1, 2, 3, 4, 5])\n",
    "print(s1)"
   ]
  },
  {
   "cell_type": "code",
   "execution_count": 131,
   "metadata": {
    "ExecuteTime": {
     "end_time": "2024-04-01T13:18:36.400011Z",
     "start_time": "2024-04-01T13:18:36.394593Z"
    }
   },
   "outputs": [
    {
     "name": "stdout",
     "output_type": "stream",
     "text": [
      "a    1\n",
      "b    2\n",
      "c    3\n",
      "d    4\n",
      "e    5\n",
      "Name: S, dtype: int64\n"
     ]
    }
   ],
   "source": [
    "s = pd.Series([1, 2, 3, 4, 5], index=['a', 'b', 'c', 'd', 'e'],name = 'S')\n",
    "print(s)"
   ]
  },
  {
   "cell_type": "code",
   "execution_count": 132,
   "metadata": {
    "ExecuteTime": {
     "end_time": "2024-04-01T13:18:38.068470Z",
     "start_time": "2024-04-01T13:18:38.062268Z"
    }
   },
   "outputs": [
    {
     "data": {
      "text/plain": [
       "Index(['a', 'b', 'c', 'd', 'e'], dtype='object')"
      ]
     },
     "execution_count": 132,
     "metadata": {},
     "output_type": "execute_result"
    }
   ],
   "source": [
    "#索引\n",
    "s.index"
   ]
  },
  {
   "cell_type": "code",
   "execution_count": 135,
   "metadata": {
    "ExecuteTime": {
     "end_time": "2024-04-01T13:18:50.816346Z",
     "start_time": "2024-04-01T13:18:50.812337Z"
    }
   },
   "outputs": [
    {
     "data": {
      "text/plain": [
       "dtype('int64')"
      ]
     },
     "execution_count": 135,
     "metadata": {},
     "output_type": "execute_result"
    }
   ],
   "source": [
    "#数据类型\n",
    "s.dtype"
   ]
  },
  {
   "cell_type": "code",
   "execution_count": 134,
   "metadata": {
    "ExecuteTime": {
     "end_time": "2024-04-01T13:18:38.835323Z",
     "start_time": "2024-04-01T13:18:38.827540Z"
    }
   },
   "outputs": [
    {
     "data": {
      "text/plain": [
       "'S'"
      ]
     },
     "execution_count": 134,
     "metadata": {},
     "output_type": "execute_result"
    }
   ],
   "source": [
    "s.name"
   ]
  },
  {
   "cell_type": "markdown",
   "metadata": {},
   "source": [
    "## 2.3 DataFrame及基本用法"
   ]
  },
  {
   "cell_type": "markdown",
   "metadata": {},
   "source": [
    "表格型的数据结构，它含有一组有序的列，每列可以是不同的值类型（数值、字符串、布尔型值）。DataFrame 既有行索引也有列索引，它可以被看做由 Series 组成的字典（共同用一个索引）。"
   ]
  },
  {
   "cell_type": "code",
   "execution_count": 125,
   "metadata": {
    "ExecuteTime": {
     "end_time": "2024-04-01T13:15:55.740653Z",
     "start_time": "2024-04-01T13:15:55.726000Z"
    }
   },
   "outputs": [
    {
     "data": {
      "text/html": [
       "<div>\n",
       "<style scoped>\n",
       "    .dataframe tbody tr th:only-of-type {\n",
       "        vertical-align: middle;\n",
       "    }\n",
       "\n",
       "    .dataframe tbody tr th {\n",
       "        vertical-align: top;\n",
       "    }\n",
       "\n",
       "    .dataframe thead th {\n",
       "        text-align: right;\n",
       "    }\n",
       "</style>\n",
       "<table border=\"1\" class=\"dataframe\">\n",
       "  <thead>\n",
       "    <tr style=\"text-align: right;\">\n",
       "      <th></th>\n",
       "      <th>Name</th>\n",
       "      <th>Age</th>\n",
       "      <th>Sex</th>\n",
       "    </tr>\n",
       "  </thead>\n",
       "  <tbody>\n",
       "    <tr>\n",
       "      <th>0</th>\n",
       "      <td>Braund, Mr. Owen Harris</td>\n",
       "      <td>22</td>\n",
       "      <td>male</td>\n",
       "    </tr>\n",
       "    <tr>\n",
       "      <th>1</th>\n",
       "      <td>Allen, Mr. William Henry</td>\n",
       "      <td>35</td>\n",
       "      <td>male</td>\n",
       "    </tr>\n",
       "    <tr>\n",
       "      <th>2</th>\n",
       "      <td>Bonnell, Miss. Elizabeth</td>\n",
       "      <td>58</td>\n",
       "      <td>female</td>\n",
       "    </tr>\n",
       "  </tbody>\n",
       "</table>\n",
       "</div>"
      ],
      "text/plain": [
       "                       Name  Age     Sex\n",
       "0   Braund, Mr. Owen Harris   22    male\n",
       "1  Allen, Mr. William Henry   35    male\n",
       "2  Bonnell, Miss. Elizabeth   58  female"
      ]
     },
     "execution_count": 125,
     "metadata": {},
     "output_type": "execute_result"
    }
   ],
   "source": [
    "#创建DataFrame，可以使用列表，ndarray,字典，Series或者直接读取文件来创建DataFrame\n",
    "#官方文档例子\n",
    "df = pd.DataFrame(\n",
    "    {\n",
    "        \"Name\": [\n",
    "            \"Braund, Mr. Owen Harris\",\n",
    "            \"Allen, Mr. William Henry\",\n",
    "            \"Bonnell, Miss. Elizabeth\",\n",
    "        ],\n",
    "        \"Age\": [22, 35, 58],\n",
    "        \"Sex\": [\"male\", \"male\", \"female\"],\n",
    "    }\n",
    ")\n",
    "df"
   ]
  },
  {
   "cell_type": "markdown",
   "metadata": {},
   "source": [
    "### 查看数据"
   ]
  },
  {
   "cell_type": "code",
   "execution_count": 137,
   "metadata": {
    "ExecuteTime": {
     "end_time": "2024-04-01T13:22:09.596988Z",
     "start_time": "2024-04-01T13:22:09.588683Z"
    }
   },
   "outputs": [],
   "source": [
    "df = pd.DataFrame(\n",
    "np.random.randn(100,100)\n",
    ")"
   ]
  },
  {
   "cell_type": "code",
   "execution_count": 138,
   "metadata": {
    "ExecuteTime": {
     "end_time": "2024-04-01T13:22:24.606220Z",
     "start_time": "2024-04-01T13:22:24.583494Z"
    }
   },
   "outputs": [
    {
     "data": {
      "text/html": [
       "<div>\n",
       "<style scoped>\n",
       "    .dataframe tbody tr th:only-of-type {\n",
       "        vertical-align: middle;\n",
       "    }\n",
       "\n",
       "    .dataframe tbody tr th {\n",
       "        vertical-align: top;\n",
       "    }\n",
       "\n",
       "    .dataframe thead th {\n",
       "        text-align: right;\n",
       "    }\n",
       "</style>\n",
       "<table border=\"1\" class=\"dataframe\">\n",
       "  <thead>\n",
       "    <tr style=\"text-align: right;\">\n",
       "      <th></th>\n",
       "      <th>0</th>\n",
       "      <th>1</th>\n",
       "      <th>2</th>\n",
       "      <th>3</th>\n",
       "      <th>4</th>\n",
       "      <th>5</th>\n",
       "      <th>6</th>\n",
       "      <th>7</th>\n",
       "      <th>8</th>\n",
       "      <th>9</th>\n",
       "      <th>...</th>\n",
       "      <th>90</th>\n",
       "      <th>91</th>\n",
       "      <th>92</th>\n",
       "      <th>93</th>\n",
       "      <th>94</th>\n",
       "      <th>95</th>\n",
       "      <th>96</th>\n",
       "      <th>97</th>\n",
       "      <th>98</th>\n",
       "      <th>99</th>\n",
       "    </tr>\n",
       "  </thead>\n",
       "  <tbody>\n",
       "    <tr>\n",
       "      <th>0</th>\n",
       "      <td>-0.211341</td>\n",
       "      <td>1.266878</td>\n",
       "      <td>-0.519553</td>\n",
       "      <td>-0.157740</td>\n",
       "      <td>-1.048931</td>\n",
       "      <td>-0.969402</td>\n",
       "      <td>1.496221</td>\n",
       "      <td>1.455252</td>\n",
       "      <td>0.903164</td>\n",
       "      <td>-0.158307</td>\n",
       "      <td>...</td>\n",
       "      <td>1.326783</td>\n",
       "      <td>1.931043</td>\n",
       "      <td>-0.848628</td>\n",
       "      <td>-0.170511</td>\n",
       "      <td>0.112376</td>\n",
       "      <td>-0.006120</td>\n",
       "      <td>-0.673630</td>\n",
       "      <td>-1.272305</td>\n",
       "      <td>-2.535614</td>\n",
       "      <td>-1.473910</td>\n",
       "    </tr>\n",
       "    <tr>\n",
       "      <th>1</th>\n",
       "      <td>1.146732</td>\n",
       "      <td>1.642190</td>\n",
       "      <td>-2.023140</td>\n",
       "      <td>-0.530335</td>\n",
       "      <td>0.713935</td>\n",
       "      <td>0.081807</td>\n",
       "      <td>-0.928176</td>\n",
       "      <td>1.341900</td>\n",
       "      <td>0.815401</td>\n",
       "      <td>1.159356</td>\n",
       "      <td>...</td>\n",
       "      <td>-1.366692</td>\n",
       "      <td>0.380955</td>\n",
       "      <td>-0.243676</td>\n",
       "      <td>-0.742537</td>\n",
       "      <td>-0.241930</td>\n",
       "      <td>0.974334</td>\n",
       "      <td>-0.789168</td>\n",
       "      <td>1.435104</td>\n",
       "      <td>-0.566427</td>\n",
       "      <td>-0.434579</td>\n",
       "    </tr>\n",
       "    <tr>\n",
       "      <th>2</th>\n",
       "      <td>-0.677553</td>\n",
       "      <td>0.273080</td>\n",
       "      <td>0.093430</td>\n",
       "      <td>-1.630971</td>\n",
       "      <td>1.251458</td>\n",
       "      <td>-1.285941</td>\n",
       "      <td>-1.113786</td>\n",
       "      <td>1.042323</td>\n",
       "      <td>-0.663038</td>\n",
       "      <td>0.582740</td>\n",
       "      <td>...</td>\n",
       "      <td>-0.341559</td>\n",
       "      <td>0.573504</td>\n",
       "      <td>0.448969</td>\n",
       "      <td>-0.793272</td>\n",
       "      <td>1.301704</td>\n",
       "      <td>2.702121</td>\n",
       "      <td>1.011581</td>\n",
       "      <td>1.272719</td>\n",
       "      <td>0.766406</td>\n",
       "      <td>1.450022</td>\n",
       "    </tr>\n",
       "    <tr>\n",
       "      <th>3</th>\n",
       "      <td>-0.653425</td>\n",
       "      <td>0.779035</td>\n",
       "      <td>1.764546</td>\n",
       "      <td>-2.548890</td>\n",
       "      <td>-1.900348</td>\n",
       "      <td>-0.089847</td>\n",
       "      <td>-2.430740</td>\n",
       "      <td>0.356800</td>\n",
       "      <td>-1.210981</td>\n",
       "      <td>-0.020634</td>\n",
       "      <td>...</td>\n",
       "      <td>-0.999337</td>\n",
       "      <td>1.258833</td>\n",
       "      <td>2.248874</td>\n",
       "      <td>-0.835083</td>\n",
       "      <td>-0.420628</td>\n",
       "      <td>1.935721</td>\n",
       "      <td>0.860020</td>\n",
       "      <td>0.139981</td>\n",
       "      <td>0.065963</td>\n",
       "      <td>1.578092</td>\n",
       "    </tr>\n",
       "    <tr>\n",
       "      <th>4</th>\n",
       "      <td>0.293547</td>\n",
       "      <td>-0.145902</td>\n",
       "      <td>0.414384</td>\n",
       "      <td>0.741449</td>\n",
       "      <td>-0.682276</td>\n",
       "      <td>0.691347</td>\n",
       "      <td>0.557779</td>\n",
       "      <td>0.839143</td>\n",
       "      <td>-1.235130</td>\n",
       "      <td>0.896661</td>\n",
       "      <td>...</td>\n",
       "      <td>1.313399</td>\n",
       "      <td>-0.293000</td>\n",
       "      <td>0.860730</td>\n",
       "      <td>-1.808694</td>\n",
       "      <td>1.112225</td>\n",
       "      <td>-0.431822</td>\n",
       "      <td>-0.118751</td>\n",
       "      <td>1.444311</td>\n",
       "      <td>-0.743363</td>\n",
       "      <td>-0.502585</td>\n",
       "    </tr>\n",
       "  </tbody>\n",
       "</table>\n",
       "<p>5 rows × 100 columns</p>\n",
       "</div>"
      ],
      "text/plain": [
       "         0         1         2         3         4         5         6   \\\n",
       "0 -0.211341  1.266878 -0.519553 -0.157740 -1.048931 -0.969402  1.496221   \n",
       "1  1.146732  1.642190 -2.023140 -0.530335  0.713935  0.081807 -0.928176   \n",
       "2 -0.677553  0.273080  0.093430 -1.630971  1.251458 -1.285941 -1.113786   \n",
       "3 -0.653425  0.779035  1.764546 -2.548890 -1.900348 -0.089847 -2.430740   \n",
       "4  0.293547 -0.145902  0.414384  0.741449 -0.682276  0.691347  0.557779   \n",
       "\n",
       "         7         8         9   ...        90        91        92        93  \\\n",
       "0  1.455252  0.903164 -0.158307  ...  1.326783  1.931043 -0.848628 -0.170511   \n",
       "1  1.341900  0.815401  1.159356  ... -1.366692  0.380955 -0.243676 -0.742537   \n",
       "2  1.042323 -0.663038  0.582740  ... -0.341559  0.573504  0.448969 -0.793272   \n",
       "3  0.356800 -1.210981 -0.020634  ... -0.999337  1.258833  2.248874 -0.835083   \n",
       "4  0.839143 -1.235130  0.896661  ...  1.313399 -0.293000  0.860730 -1.808694   \n",
       "\n",
       "         94        95        96        97        98        99  \n",
       "0  0.112376 -0.006120 -0.673630 -1.272305 -2.535614 -1.473910  \n",
       "1 -0.241930  0.974334 -0.789168  1.435104 -0.566427 -0.434579  \n",
       "2  1.301704  2.702121  1.011581  1.272719  0.766406  1.450022  \n",
       "3 -0.420628  1.935721  0.860020  0.139981  0.065963  1.578092  \n",
       "4  1.112225 -0.431822 -0.118751  1.444311 -0.743363 -0.502585  \n",
       "\n",
       "[5 rows x 100 columns]"
      ]
     },
     "execution_count": 138,
     "metadata": {},
     "output_type": "execute_result"
    }
   ],
   "source": [
    "df.head()"
   ]
  },
  {
   "cell_type": "code",
   "execution_count": 139,
   "metadata": {
    "ExecuteTime": {
     "end_time": "2024-04-01T13:22:32.281377Z",
     "start_time": "2024-04-01T13:22:32.264687Z"
    }
   },
   "outputs": [
    {
     "data": {
      "text/html": [
       "<div>\n",
       "<style scoped>\n",
       "    .dataframe tbody tr th:only-of-type {\n",
       "        vertical-align: middle;\n",
       "    }\n",
       "\n",
       "    .dataframe tbody tr th {\n",
       "        vertical-align: top;\n",
       "    }\n",
       "\n",
       "    .dataframe thead th {\n",
       "        text-align: right;\n",
       "    }\n",
       "</style>\n",
       "<table border=\"1\" class=\"dataframe\">\n",
       "  <thead>\n",
       "    <tr style=\"text-align: right;\">\n",
       "      <th></th>\n",
       "      <th>0</th>\n",
       "      <th>1</th>\n",
       "      <th>2</th>\n",
       "      <th>3</th>\n",
       "      <th>4</th>\n",
       "      <th>5</th>\n",
       "      <th>6</th>\n",
       "      <th>7</th>\n",
       "      <th>8</th>\n",
       "      <th>9</th>\n",
       "      <th>...</th>\n",
       "      <th>90</th>\n",
       "      <th>91</th>\n",
       "      <th>92</th>\n",
       "      <th>93</th>\n",
       "      <th>94</th>\n",
       "      <th>95</th>\n",
       "      <th>96</th>\n",
       "      <th>97</th>\n",
       "      <th>98</th>\n",
       "      <th>99</th>\n",
       "    </tr>\n",
       "  </thead>\n",
       "  <tbody>\n",
       "    <tr>\n",
       "      <th>95</th>\n",
       "      <td>-0.126195</td>\n",
       "      <td>0.628935</td>\n",
       "      <td>-2.020630</td>\n",
       "      <td>0.469680</td>\n",
       "      <td>-2.006142</td>\n",
       "      <td>0.556262</td>\n",
       "      <td>0.013624</td>\n",
       "      <td>-0.282477</td>\n",
       "      <td>-0.283504</td>\n",
       "      <td>-0.424563</td>\n",
       "      <td>...</td>\n",
       "      <td>-0.260222</td>\n",
       "      <td>-1.890613</td>\n",
       "      <td>-0.301673</td>\n",
       "      <td>-0.863274</td>\n",
       "      <td>0.145628</td>\n",
       "      <td>0.235904</td>\n",
       "      <td>-2.119966</td>\n",
       "      <td>2.474978</td>\n",
       "      <td>-0.838864</td>\n",
       "      <td>0.297548</td>\n",
       "    </tr>\n",
       "    <tr>\n",
       "      <th>96</th>\n",
       "      <td>1.146325</td>\n",
       "      <td>-1.407622</td>\n",
       "      <td>2.225578</td>\n",
       "      <td>-0.153179</td>\n",
       "      <td>0.257631</td>\n",
       "      <td>0.531647</td>\n",
       "      <td>0.673955</td>\n",
       "      <td>1.014788</td>\n",
       "      <td>-0.929241</td>\n",
       "      <td>-0.519408</td>\n",
       "      <td>...</td>\n",
       "      <td>-0.071461</td>\n",
       "      <td>-0.564621</td>\n",
       "      <td>-0.011323</td>\n",
       "      <td>0.584443</td>\n",
       "      <td>0.843134</td>\n",
       "      <td>1.584683</td>\n",
       "      <td>0.801846</td>\n",
       "      <td>-0.356269</td>\n",
       "      <td>-1.344782</td>\n",
       "      <td>-0.671292</td>\n",
       "    </tr>\n",
       "    <tr>\n",
       "      <th>97</th>\n",
       "      <td>0.804172</td>\n",
       "      <td>0.313313</td>\n",
       "      <td>-1.335136</td>\n",
       "      <td>-0.722656</td>\n",
       "      <td>0.781495</td>\n",
       "      <td>0.402835</td>\n",
       "      <td>-0.445196</td>\n",
       "      <td>0.948714</td>\n",
       "      <td>0.881059</td>\n",
       "      <td>-0.731188</td>\n",
       "      <td>...</td>\n",
       "      <td>1.553129</td>\n",
       "      <td>0.146049</td>\n",
       "      <td>0.262724</td>\n",
       "      <td>0.250462</td>\n",
       "      <td>-0.249268</td>\n",
       "      <td>2.069833</td>\n",
       "      <td>-0.820261</td>\n",
       "      <td>-0.284279</td>\n",
       "      <td>0.374985</td>\n",
       "      <td>-0.948242</td>\n",
       "    </tr>\n",
       "    <tr>\n",
       "      <th>98</th>\n",
       "      <td>-0.887304</td>\n",
       "      <td>-0.715361</td>\n",
       "      <td>-0.658254</td>\n",
       "      <td>0.477384</td>\n",
       "      <td>1.066583</td>\n",
       "      <td>-0.752495</td>\n",
       "      <td>-0.301363</td>\n",
       "      <td>2.160708</td>\n",
       "      <td>-0.767394</td>\n",
       "      <td>-0.752097</td>\n",
       "      <td>...</td>\n",
       "      <td>-1.161535</td>\n",
       "      <td>-1.170235</td>\n",
       "      <td>0.202089</td>\n",
       "      <td>-0.498331</td>\n",
       "      <td>-0.456414</td>\n",
       "      <td>0.297166</td>\n",
       "      <td>0.453974</td>\n",
       "      <td>-0.524772</td>\n",
       "      <td>-1.432274</td>\n",
       "      <td>0.026494</td>\n",
       "    </tr>\n",
       "    <tr>\n",
       "      <th>99</th>\n",
       "      <td>1.478664</td>\n",
       "      <td>-1.370092</td>\n",
       "      <td>1.372437</td>\n",
       "      <td>0.063392</td>\n",
       "      <td>1.095827</td>\n",
       "      <td>1.020567</td>\n",
       "      <td>-0.412310</td>\n",
       "      <td>-0.264136</td>\n",
       "      <td>0.877478</td>\n",
       "      <td>1.204812</td>\n",
       "      <td>...</td>\n",
       "      <td>-0.921508</td>\n",
       "      <td>-1.824297</td>\n",
       "      <td>0.949535</td>\n",
       "      <td>-0.240234</td>\n",
       "      <td>-0.472351</td>\n",
       "      <td>-0.921514</td>\n",
       "      <td>0.914621</td>\n",
       "      <td>0.092921</td>\n",
       "      <td>-0.274738</td>\n",
       "      <td>0.097578</td>\n",
       "    </tr>\n",
       "  </tbody>\n",
       "</table>\n",
       "<p>5 rows × 100 columns</p>\n",
       "</div>"
      ],
      "text/plain": [
       "          0         1         2         3         4         5         6   \\\n",
       "95 -0.126195  0.628935 -2.020630  0.469680 -2.006142  0.556262  0.013624   \n",
       "96  1.146325 -1.407622  2.225578 -0.153179  0.257631  0.531647  0.673955   \n",
       "97  0.804172  0.313313 -1.335136 -0.722656  0.781495  0.402835 -0.445196   \n",
       "98 -0.887304 -0.715361 -0.658254  0.477384  1.066583 -0.752495 -0.301363   \n",
       "99  1.478664 -1.370092  1.372437  0.063392  1.095827  1.020567 -0.412310   \n",
       "\n",
       "          7         8         9   ...        90        91        92        93  \\\n",
       "95 -0.282477 -0.283504 -0.424563  ... -0.260222 -1.890613 -0.301673 -0.863274   \n",
       "96  1.014788 -0.929241 -0.519408  ... -0.071461 -0.564621 -0.011323  0.584443   \n",
       "97  0.948714  0.881059 -0.731188  ...  1.553129  0.146049  0.262724  0.250462   \n",
       "98  2.160708 -0.767394 -0.752097  ... -1.161535 -1.170235  0.202089 -0.498331   \n",
       "99 -0.264136  0.877478  1.204812  ... -0.921508 -1.824297  0.949535 -0.240234   \n",
       "\n",
       "          94        95        96        97        98        99  \n",
       "95  0.145628  0.235904 -2.119966  2.474978 -0.838864  0.297548  \n",
       "96  0.843134  1.584683  0.801846 -0.356269 -1.344782 -0.671292  \n",
       "97 -0.249268  2.069833 -0.820261 -0.284279  0.374985 -0.948242  \n",
       "98 -0.456414  0.297166  0.453974 -0.524772 -1.432274  0.026494  \n",
       "99 -0.472351 -0.921514  0.914621  0.092921 -0.274738  0.097578  \n",
       "\n",
       "[5 rows x 100 columns]"
      ]
     },
     "execution_count": 139,
     "metadata": {},
     "output_type": "execute_result"
    }
   ],
   "source": [
    "df.tail()"
   ]
  },
  {
   "cell_type": "code",
   "execution_count": 140,
   "metadata": {
    "ExecuteTime": {
     "end_time": "2024-04-01T13:22:47.015612Z",
     "start_time": "2024-04-01T13:22:46.990998Z"
    },
    "scrolled": true
   },
   "outputs": [
    {
     "name": "stdout",
     "output_type": "stream",
     "text": [
      "<class 'pandas.core.frame.DataFrame'>\n",
      "RangeIndex: 100 entries, 0 to 99\n",
      "Data columns (total 100 columns):\n",
      " #   Column  Non-Null Count  Dtype  \n",
      "---  ------  --------------  -----  \n",
      " 0   0       100 non-null    float64\n",
      " 1   1       100 non-null    float64\n",
      " 2   2       100 non-null    float64\n",
      " 3   3       100 non-null    float64\n",
      " 4   4       100 non-null    float64\n",
      " 5   5       100 non-null    float64\n",
      " 6   6       100 non-null    float64\n",
      " 7   7       100 non-null    float64\n",
      " 8   8       100 non-null    float64\n",
      " 9   9       100 non-null    float64\n",
      " 10  10      100 non-null    float64\n",
      " 11  11      100 non-null    float64\n",
      " 12  12      100 non-null    float64\n",
      " 13  13      100 non-null    float64\n",
      " 14  14      100 non-null    float64\n",
      " 15  15      100 non-null    float64\n",
      " 16  16      100 non-null    float64\n",
      " 17  17      100 non-null    float64\n",
      " 18  18      100 non-null    float64\n",
      " 19  19      100 non-null    float64\n",
      " 20  20      100 non-null    float64\n",
      " 21  21      100 non-null    float64\n",
      " 22  22      100 non-null    float64\n",
      " 23  23      100 non-null    float64\n",
      " 24  24      100 non-null    float64\n",
      " 25  25      100 non-null    float64\n",
      " 26  26      100 non-null    float64\n",
      " 27  27      100 non-null    float64\n",
      " 28  28      100 non-null    float64\n",
      " 29  29      100 non-null    float64\n",
      " 30  30      100 non-null    float64\n",
      " 31  31      100 non-null    float64\n",
      " 32  32      100 non-null    float64\n",
      " 33  33      100 non-null    float64\n",
      " 34  34      100 non-null    float64\n",
      " 35  35      100 non-null    float64\n",
      " 36  36      100 non-null    float64\n",
      " 37  37      100 non-null    float64\n",
      " 38  38      100 non-null    float64\n",
      " 39  39      100 non-null    float64\n",
      " 40  40      100 non-null    float64\n",
      " 41  41      100 non-null    float64\n",
      " 42  42      100 non-null    float64\n",
      " 43  43      100 non-null    float64\n",
      " 44  44      100 non-null    float64\n",
      " 45  45      100 non-null    float64\n",
      " 46  46      100 non-null    float64\n",
      " 47  47      100 non-null    float64\n",
      " 48  48      100 non-null    float64\n",
      " 49  49      100 non-null    float64\n",
      " 50  50      100 non-null    float64\n",
      " 51  51      100 non-null    float64\n",
      " 52  52      100 non-null    float64\n",
      " 53  53      100 non-null    float64\n",
      " 54  54      100 non-null    float64\n",
      " 55  55      100 non-null    float64\n",
      " 56  56      100 non-null    float64\n",
      " 57  57      100 non-null    float64\n",
      " 58  58      100 non-null    float64\n",
      " 59  59      100 non-null    float64\n",
      " 60  60      100 non-null    float64\n",
      " 61  61      100 non-null    float64\n",
      " 62  62      100 non-null    float64\n",
      " 63  63      100 non-null    float64\n",
      " 64  64      100 non-null    float64\n",
      " 65  65      100 non-null    float64\n",
      " 66  66      100 non-null    float64\n",
      " 67  67      100 non-null    float64\n",
      " 68  68      100 non-null    float64\n",
      " 69  69      100 non-null    float64\n",
      " 70  70      100 non-null    float64\n",
      " 71  71      100 non-null    float64\n",
      " 72  72      100 non-null    float64\n",
      " 73  73      100 non-null    float64\n",
      " 74  74      100 non-null    float64\n",
      " 75  75      100 non-null    float64\n",
      " 76  76      100 non-null    float64\n",
      " 77  77      100 non-null    float64\n",
      " 78  78      100 non-null    float64\n",
      " 79  79      100 non-null    float64\n",
      " 80  80      100 non-null    float64\n",
      " 81  81      100 non-null    float64\n",
      " 82  82      100 non-null    float64\n",
      " 83  83      100 non-null    float64\n",
      " 84  84      100 non-null    float64\n",
      " 85  85      100 non-null    float64\n",
      " 86  86      100 non-null    float64\n",
      " 87  87      100 non-null    float64\n",
      " 88  88      100 non-null    float64\n",
      " 89  89      100 non-null    float64\n",
      " 90  90      100 non-null    float64\n",
      " 91  91      100 non-null    float64\n",
      " 92  92      100 non-null    float64\n",
      " 93  93      100 non-null    float64\n",
      " 94  94      100 non-null    float64\n",
      " 95  95      100 non-null    float64\n",
      " 96  96      100 non-null    float64\n",
      " 97  97      100 non-null    float64\n",
      " 98  98      100 non-null    float64\n",
      " 99  99      100 non-null    float64\n",
      "dtypes: float64(100)\n",
      "memory usage: 78.3 KB\n"
     ]
    }
   ],
   "source": [
    "df.info()"
   ]
  },
  {
   "cell_type": "code",
   "execution_count": 141,
   "metadata": {
    "ExecuteTime": {
     "end_time": "2024-04-01T13:23:05.552035Z",
     "start_time": "2024-04-01T13:23:05.261056Z"
    }
   },
   "outputs": [
    {
     "data": {
      "text/html": [
       "<div>\n",
       "<style scoped>\n",
       "    .dataframe tbody tr th:only-of-type {\n",
       "        vertical-align: middle;\n",
       "    }\n",
       "\n",
       "    .dataframe tbody tr th {\n",
       "        vertical-align: top;\n",
       "    }\n",
       "\n",
       "    .dataframe thead th {\n",
       "        text-align: right;\n",
       "    }\n",
       "</style>\n",
       "<table border=\"1\" class=\"dataframe\">\n",
       "  <thead>\n",
       "    <tr style=\"text-align: right;\">\n",
       "      <th></th>\n",
       "      <th>0</th>\n",
       "      <th>1</th>\n",
       "      <th>2</th>\n",
       "      <th>3</th>\n",
       "      <th>4</th>\n",
       "      <th>5</th>\n",
       "      <th>6</th>\n",
       "      <th>7</th>\n",
       "      <th>8</th>\n",
       "      <th>9</th>\n",
       "      <th>...</th>\n",
       "      <th>90</th>\n",
       "      <th>91</th>\n",
       "      <th>92</th>\n",
       "      <th>93</th>\n",
       "      <th>94</th>\n",
       "      <th>95</th>\n",
       "      <th>96</th>\n",
       "      <th>97</th>\n",
       "      <th>98</th>\n",
       "      <th>99</th>\n",
       "    </tr>\n",
       "  </thead>\n",
       "  <tbody>\n",
       "    <tr>\n",
       "      <th>count</th>\n",
       "      <td>100.000000</td>\n",
       "      <td>100.000000</td>\n",
       "      <td>100.000000</td>\n",
       "      <td>100.000000</td>\n",
       "      <td>100.000000</td>\n",
       "      <td>100.000000</td>\n",
       "      <td>100.000000</td>\n",
       "      <td>100.000000</td>\n",
       "      <td>100.000000</td>\n",
       "      <td>100.000000</td>\n",
       "      <td>...</td>\n",
       "      <td>100.000000</td>\n",
       "      <td>100.000000</td>\n",
       "      <td>100.000000</td>\n",
       "      <td>100.000000</td>\n",
       "      <td>100.000000</td>\n",
       "      <td>100.000000</td>\n",
       "      <td>100.000000</td>\n",
       "      <td>100.000000</td>\n",
       "      <td>100.000000</td>\n",
       "      <td>100.000000</td>\n",
       "    </tr>\n",
       "    <tr>\n",
       "      <th>mean</th>\n",
       "      <td>0.002047</td>\n",
       "      <td>-0.071748</td>\n",
       "      <td>-0.122162</td>\n",
       "      <td>0.094967</td>\n",
       "      <td>0.041669</td>\n",
       "      <td>-0.017967</td>\n",
       "      <td>-0.042264</td>\n",
       "      <td>0.135950</td>\n",
       "      <td>-0.069067</td>\n",
       "      <td>-0.062455</td>\n",
       "      <td>...</td>\n",
       "      <td>0.031082</td>\n",
       "      <td>0.028692</td>\n",
       "      <td>0.000980</td>\n",
       "      <td>-0.002990</td>\n",
       "      <td>0.186306</td>\n",
       "      <td>0.109799</td>\n",
       "      <td>0.008113</td>\n",
       "      <td>0.133903</td>\n",
       "      <td>0.021077</td>\n",
       "      <td>0.024363</td>\n",
       "    </tr>\n",
       "    <tr>\n",
       "      <th>std</th>\n",
       "      <td>1.138545</td>\n",
       "      <td>0.988379</td>\n",
       "      <td>0.975479</td>\n",
       "      <td>0.900838</td>\n",
       "      <td>0.996905</td>\n",
       "      <td>0.979857</td>\n",
       "      <td>0.989307</td>\n",
       "      <td>0.934369</td>\n",
       "      <td>0.958098</td>\n",
       "      <td>1.039842</td>\n",
       "      <td>...</td>\n",
       "      <td>0.966443</td>\n",
       "      <td>0.943793</td>\n",
       "      <td>0.970567</td>\n",
       "      <td>1.084303</td>\n",
       "      <td>0.968691</td>\n",
       "      <td>1.048866</td>\n",
       "      <td>0.917225</td>\n",
       "      <td>1.006840</td>\n",
       "      <td>0.986295</td>\n",
       "      <td>0.956048</td>\n",
       "    </tr>\n",
       "    <tr>\n",
       "      <th>min</th>\n",
       "      <td>-2.509886</td>\n",
       "      <td>-2.393475</td>\n",
       "      <td>-2.265902</td>\n",
       "      <td>-2.548890</td>\n",
       "      <td>-2.211559</td>\n",
       "      <td>-2.098111</td>\n",
       "      <td>-2.430740</td>\n",
       "      <td>-2.745156</td>\n",
       "      <td>-2.460143</td>\n",
       "      <td>-2.899123</td>\n",
       "      <td>...</td>\n",
       "      <td>-2.252404</td>\n",
       "      <td>-2.543039</td>\n",
       "      <td>-3.340014</td>\n",
       "      <td>-2.542408</td>\n",
       "      <td>-1.954963</td>\n",
       "      <td>-2.025566</td>\n",
       "      <td>-2.119966</td>\n",
       "      <td>-1.966888</td>\n",
       "      <td>-2.535614</td>\n",
       "      <td>-2.227089</td>\n",
       "    </tr>\n",
       "    <tr>\n",
       "      <th>25%</th>\n",
       "      <td>-0.740638</td>\n",
       "      <td>-0.703169</td>\n",
       "      <td>-0.786170</td>\n",
       "      <td>-0.524524</td>\n",
       "      <td>-0.580263</td>\n",
       "      <td>-0.717926</td>\n",
       "      <td>-0.650665</td>\n",
       "      <td>-0.374661</td>\n",
       "      <td>-0.683249</td>\n",
       "      <td>-0.726690</td>\n",
       "      <td>...</td>\n",
       "      <td>-0.502893</td>\n",
       "      <td>-0.549929</td>\n",
       "      <td>-0.618548</td>\n",
       "      <td>-0.815204</td>\n",
       "      <td>-0.455542</td>\n",
       "      <td>-0.628265</td>\n",
       "      <td>-0.618051</td>\n",
       "      <td>-0.484490</td>\n",
       "      <td>-0.642959</td>\n",
       "      <td>-0.573856</td>\n",
       "    </tr>\n",
       "    <tr>\n",
       "      <th>50%</th>\n",
       "      <td>-0.065399</td>\n",
       "      <td>-0.039723</td>\n",
       "      <td>-0.054513</td>\n",
       "      <td>0.057971</td>\n",
       "      <td>-0.052958</td>\n",
       "      <td>-0.028342</td>\n",
       "      <td>-0.101071</td>\n",
       "      <td>0.262808</td>\n",
       "      <td>-0.148785</td>\n",
       "      <td>-0.117928</td>\n",
       "      <td>...</td>\n",
       "      <td>0.059374</td>\n",
       "      <td>0.016661</td>\n",
       "      <td>0.067891</td>\n",
       "      <td>-0.120216</td>\n",
       "      <td>0.129002</td>\n",
       "      <td>0.157743</td>\n",
       "      <td>0.033025</td>\n",
       "      <td>0.127729</td>\n",
       "      <td>0.030734</td>\n",
       "      <td>-0.037410</td>\n",
       "    </tr>\n",
       "    <tr>\n",
       "      <th>75%</th>\n",
       "      <td>0.814675</td>\n",
       "      <td>0.513253</td>\n",
       "      <td>0.485417</td>\n",
       "      <td>0.728426</td>\n",
       "      <td>0.723186</td>\n",
       "      <td>0.464728</td>\n",
       "      <td>0.602233</td>\n",
       "      <td>0.745486</td>\n",
       "      <td>0.539971</td>\n",
       "      <td>0.702384</td>\n",
       "      <td>...</td>\n",
       "      <td>0.599677</td>\n",
       "      <td>0.686700</td>\n",
       "      <td>0.672813</td>\n",
       "      <td>0.840238</td>\n",
       "      <td>0.845926</td>\n",
       "      <td>0.761680</td>\n",
       "      <td>0.523708</td>\n",
       "      <td>0.771234</td>\n",
       "      <td>0.881585</td>\n",
       "      <td>0.728125</td>\n",
       "    </tr>\n",
       "    <tr>\n",
       "      <th>max</th>\n",
       "      <td>2.975575</td>\n",
       "      <td>2.309191</td>\n",
       "      <td>2.225578</td>\n",
       "      <td>1.888831</td>\n",
       "      <td>3.417377</td>\n",
       "      <td>3.393114</td>\n",
       "      <td>2.327243</td>\n",
       "      <td>2.299260</td>\n",
       "      <td>2.866724</td>\n",
       "      <td>2.845365</td>\n",
       "      <td>...</td>\n",
       "      <td>2.417018</td>\n",
       "      <td>2.260812</td>\n",
       "      <td>2.248874</td>\n",
       "      <td>2.861471</td>\n",
       "      <td>2.883765</td>\n",
       "      <td>2.972538</td>\n",
       "      <td>2.537740</td>\n",
       "      <td>4.001221</td>\n",
       "      <td>1.888895</td>\n",
       "      <td>2.256035</td>\n",
       "    </tr>\n",
       "  </tbody>\n",
       "</table>\n",
       "<p>8 rows × 100 columns</p>\n",
       "</div>"
      ],
      "text/plain": [
       "               0           1           2           3           4           5   \\\n",
       "count  100.000000  100.000000  100.000000  100.000000  100.000000  100.000000   \n",
       "mean     0.002047   -0.071748   -0.122162    0.094967    0.041669   -0.017967   \n",
       "std      1.138545    0.988379    0.975479    0.900838    0.996905    0.979857   \n",
       "min     -2.509886   -2.393475   -2.265902   -2.548890   -2.211559   -2.098111   \n",
       "25%     -0.740638   -0.703169   -0.786170   -0.524524   -0.580263   -0.717926   \n",
       "50%     -0.065399   -0.039723   -0.054513    0.057971   -0.052958   -0.028342   \n",
       "75%      0.814675    0.513253    0.485417    0.728426    0.723186    0.464728   \n",
       "max      2.975575    2.309191    2.225578    1.888831    3.417377    3.393114   \n",
       "\n",
       "               6           7           8           9   ...          90  \\\n",
       "count  100.000000  100.000000  100.000000  100.000000  ...  100.000000   \n",
       "mean    -0.042264    0.135950   -0.069067   -0.062455  ...    0.031082   \n",
       "std      0.989307    0.934369    0.958098    1.039842  ...    0.966443   \n",
       "min     -2.430740   -2.745156   -2.460143   -2.899123  ...   -2.252404   \n",
       "25%     -0.650665   -0.374661   -0.683249   -0.726690  ...   -0.502893   \n",
       "50%     -0.101071    0.262808   -0.148785   -0.117928  ...    0.059374   \n",
       "75%      0.602233    0.745486    0.539971    0.702384  ...    0.599677   \n",
       "max      2.327243    2.299260    2.866724    2.845365  ...    2.417018   \n",
       "\n",
       "               91          92          93          94          95          96  \\\n",
       "count  100.000000  100.000000  100.000000  100.000000  100.000000  100.000000   \n",
       "mean     0.028692    0.000980   -0.002990    0.186306    0.109799    0.008113   \n",
       "std      0.943793    0.970567    1.084303    0.968691    1.048866    0.917225   \n",
       "min     -2.543039   -3.340014   -2.542408   -1.954963   -2.025566   -2.119966   \n",
       "25%     -0.549929   -0.618548   -0.815204   -0.455542   -0.628265   -0.618051   \n",
       "50%      0.016661    0.067891   -0.120216    0.129002    0.157743    0.033025   \n",
       "75%      0.686700    0.672813    0.840238    0.845926    0.761680    0.523708   \n",
       "max      2.260812    2.248874    2.861471    2.883765    2.972538    2.537740   \n",
       "\n",
       "               97          98          99  \n",
       "count  100.000000  100.000000  100.000000  \n",
       "mean     0.133903    0.021077    0.024363  \n",
       "std      1.006840    0.986295    0.956048  \n",
       "min     -1.966888   -2.535614   -2.227089  \n",
       "25%     -0.484490   -0.642959   -0.573856  \n",
       "50%      0.127729    0.030734   -0.037410  \n",
       "75%      0.771234    0.881585    0.728125  \n",
       "max      4.001221    1.888895    2.256035  \n",
       "\n",
       "[8 rows x 100 columns]"
      ]
     },
     "execution_count": 141,
     "metadata": {},
     "output_type": "execute_result"
    }
   ],
   "source": [
    "df.describe()"
   ]
  },
  {
   "cell_type": "code",
   "execution_count": 143,
   "metadata": {
    "ExecuteTime": {
     "end_time": "2024-04-01T13:23:29.516703Z",
     "start_time": "2024-04-01T13:23:29.510744Z"
    }
   },
   "outputs": [
    {
     "data": {
      "text/plain": [
       "array([[-0.21134097,  1.26687787, -0.51955316, ..., -1.27230522,\n",
       "        -2.53561365, -1.47391021],\n",
       "       [ 1.14673157,  1.64218951, -2.02314023, ...,  1.4351042 ,\n",
       "        -0.56642651, -0.43457862],\n",
       "       [-0.67755257,  0.2730802 ,  0.09342978, ...,  1.27271929,\n",
       "         0.76640613,  1.45002184],\n",
       "       ...,\n",
       "       [ 0.80417248,  0.31331264, -1.33513559, ..., -0.28427853,\n",
       "         0.37498466, -0.94824214],\n",
       "       [-0.88730368, -0.71536056, -0.65825438, ..., -0.52477212,\n",
       "        -1.43227427,  0.02649421],\n",
       "       [ 1.47866355, -1.37009175,  1.37243746, ...,  0.09292102,\n",
       "        -0.27473834,  0.09757771]])"
      ]
     },
     "execution_count": 143,
     "metadata": {},
     "output_type": "execute_result"
    }
   ],
   "source": [
    "df.shape # 查看形状 \n",
    "df.index # 行索引\n",
    "df.columns # 列索引(变量名)\n",
    "df.values # 查看二维ndarray数组"
   ]
  },
  {
   "cell_type": "markdown",
   "metadata": {},
   "source": [
    "### 查珊增改"
   ]
  },
  {
   "cell_type": "code",
   "execution_count": 145,
   "metadata": {
    "ExecuteTime": {
     "end_time": "2024-04-01T13:25:13.845940Z",
     "start_time": "2024-04-01T13:25:13.830341Z"
    }
   },
   "outputs": [
    {
     "data": {
      "text/html": [
       "<div>\n",
       "<style scoped>\n",
       "    .dataframe tbody tr th:only-of-type {\n",
       "        vertical-align: middle;\n",
       "    }\n",
       "\n",
       "    .dataframe tbody tr th {\n",
       "        vertical-align: top;\n",
       "    }\n",
       "\n",
       "    .dataframe thead th {\n",
       "        text-align: right;\n",
       "    }\n",
       "</style>\n",
       "<table border=\"1\" class=\"dataframe\">\n",
       "  <thead>\n",
       "    <tr style=\"text-align: right;\">\n",
       "      <th></th>\n",
       "      <th>Name</th>\n",
       "      <th>Age</th>\n",
       "      <th>Sex</th>\n",
       "    </tr>\n",
       "  </thead>\n",
       "  <tbody>\n",
       "    <tr>\n",
       "      <th>0</th>\n",
       "      <td>Braund, Mr. Owen Harris</td>\n",
       "      <td>22</td>\n",
       "      <td>male</td>\n",
       "    </tr>\n",
       "    <tr>\n",
       "      <th>1</th>\n",
       "      <td>Allen, Mr. William Henry</td>\n",
       "      <td>35</td>\n",
       "      <td>male</td>\n",
       "    </tr>\n",
       "    <tr>\n",
       "      <th>2</th>\n",
       "      <td>Bonnell, Miss. Elizabeth</td>\n",
       "      <td>58</td>\n",
       "      <td>female</td>\n",
       "    </tr>\n",
       "  </tbody>\n",
       "</table>\n",
       "</div>"
      ],
      "text/plain": [
       "                       Name  Age     Sex\n",
       "0   Braund, Mr. Owen Harris   22    male\n",
       "1  Allen, Mr. William Henry   35    male\n",
       "2  Bonnell, Miss. Elizabeth   58  female"
      ]
     },
     "execution_count": 145,
     "metadata": {},
     "output_type": "execute_result"
    }
   ],
   "source": [
    "#loc与iloc\n",
    "df = pd.DataFrame(\n",
    "    {\n",
    "        \"Name\": [\n",
    "            \"Braund, Mr. Owen Harris\",\n",
    "            \"Allen, Mr. William Henry\",\n",
    "            \"Bonnell, Miss. Elizabeth\",\n",
    "        ],\n",
    "        \"Age\": [22, 35, 58],\n",
    "        \"Sex\": [\"male\", \"male\", \"female\"],\n",
    "    }\n",
    ")\n",
    "df"
   ]
  },
  {
   "cell_type": "code",
   "execution_count": 159,
   "metadata": {
    "ExecuteTime": {
     "end_time": "2024-04-01T13:30:25.260143Z",
     "start_time": "2024-04-01T13:30:25.252741Z"
    }
   },
   "outputs": [
    {
     "data": {
      "text/html": [
       "<div>\n",
       "<style scoped>\n",
       "    .dataframe tbody tr th:only-of-type {\n",
       "        vertical-align: middle;\n",
       "    }\n",
       "\n",
       "    .dataframe tbody tr th {\n",
       "        vertical-align: top;\n",
       "    }\n",
       "\n",
       "    .dataframe thead th {\n",
       "        text-align: right;\n",
       "    }\n",
       "</style>\n",
       "<table border=\"1\" class=\"dataframe\">\n",
       "  <thead>\n",
       "    <tr style=\"text-align: right;\">\n",
       "      <th></th>\n",
       "      <th>Name</th>\n",
       "      <th>Age</th>\n",
       "    </tr>\n",
       "  </thead>\n",
       "  <tbody>\n",
       "    <tr>\n",
       "      <th>0</th>\n",
       "      <td>Braund, Mr. Owen Harris</td>\n",
       "      <td>22</td>\n",
       "    </tr>\n",
       "    <tr>\n",
       "      <th>1</th>\n",
       "      <td>Allen, Mr. William Henry</td>\n",
       "      <td>35</td>\n",
       "    </tr>\n",
       "    <tr>\n",
       "      <th>2</th>\n",
       "      <td>Bonnell, Miss. Elizabeth</td>\n",
       "      <td>58</td>\n",
       "    </tr>\n",
       "  </tbody>\n",
       "</table>\n",
       "</div>"
      ],
      "text/plain": [
       "                       Name  Age\n",
       "0   Braund, Mr. Owen Harris   22\n",
       "1  Allen, Mr. William Henry   35\n",
       "2  Bonnell, Miss. Elizabeth   58"
      ]
     },
     "execution_count": 159,
     "metadata": {},
     "output_type": "execute_result"
    }
   ],
   "source": [
    "#loc用具体的自定义索引\n",
    "df.loc[:2,:'Age']"
   ]
  },
  {
   "cell_type": "code",
   "execution_count": 160,
   "metadata": {
    "ExecuteTime": {
     "end_time": "2024-04-01T13:30:25.914198Z",
     "start_time": "2024-04-01T13:30:25.906084Z"
    }
   },
   "outputs": [
    {
     "data": {
      "text/html": [
       "<div>\n",
       "<style scoped>\n",
       "    .dataframe tbody tr th:only-of-type {\n",
       "        vertical-align: middle;\n",
       "    }\n",
       "\n",
       "    .dataframe tbody tr th {\n",
       "        vertical-align: top;\n",
       "    }\n",
       "\n",
       "    .dataframe thead th {\n",
       "        text-align: right;\n",
       "    }\n",
       "</style>\n",
       "<table border=\"1\" class=\"dataframe\">\n",
       "  <thead>\n",
       "    <tr style=\"text-align: right;\">\n",
       "      <th></th>\n",
       "      <th>Name</th>\n",
       "    </tr>\n",
       "  </thead>\n",
       "  <tbody>\n",
       "    <tr>\n",
       "      <th>0</th>\n",
       "      <td>Braund, Mr. Owen Harris</td>\n",
       "    </tr>\n",
       "    <tr>\n",
       "      <th>1</th>\n",
       "      <td>Allen, Mr. William Henry</td>\n",
       "    </tr>\n",
       "  </tbody>\n",
       "</table>\n",
       "</div>"
      ],
      "text/plain": [
       "                       Name\n",
       "0   Braund, Mr. Owen Harris\n",
       "1  Allen, Mr. William Henry"
      ]
     },
     "execution_count": 160,
     "metadata": {},
     "output_type": "execute_result"
    }
   ],
   "source": [
    "#iloc用位置\n",
    "df.iloc[:2,:1]"
   ]
  },
  {
   "cell_type": "code",
   "execution_count": 161,
   "metadata": {
    "ExecuteTime": {
     "end_time": "2024-04-01T13:30:26.416400Z",
     "start_time": "2024-04-01T13:30:26.406651Z"
    }
   },
   "outputs": [
    {
     "data": {
      "text/html": [
       "<div>\n",
       "<style scoped>\n",
       "    .dataframe tbody tr th:only-of-type {\n",
       "        vertical-align: middle;\n",
       "    }\n",
       "\n",
       "    .dataframe tbody tr th {\n",
       "        vertical-align: top;\n",
       "    }\n",
       "\n",
       "    .dataframe thead th {\n",
       "        text-align: right;\n",
       "    }\n",
       "</style>\n",
       "<table border=\"1\" class=\"dataframe\">\n",
       "  <thead>\n",
       "    <tr style=\"text-align: right;\">\n",
       "      <th></th>\n",
       "      <th>Age</th>\n",
       "      <th>Sex</th>\n",
       "    </tr>\n",
       "  </thead>\n",
       "  <tbody>\n",
       "    <tr>\n",
       "      <th>0</th>\n",
       "      <td>22</td>\n",
       "      <td>male</td>\n",
       "    </tr>\n",
       "    <tr>\n",
       "      <th>1</th>\n",
       "      <td>35</td>\n",
       "      <td>male</td>\n",
       "    </tr>\n",
       "  </tbody>\n",
       "</table>\n",
       "</div>"
      ],
      "text/plain": [
       "   Age   Sex\n",
       "0   22  male\n",
       "1   35  male"
      ]
     },
     "execution_count": 161,
     "metadata": {},
     "output_type": "execute_result"
    }
   ],
   "source": [
    "df.iloc[:2,1:]"
   ]
  },
  {
   "cell_type": "code",
   "execution_count": 164,
   "metadata": {
    "ExecuteTime": {
     "end_time": "2024-04-01T13:31:09.865806Z",
     "start_time": "2024-04-01T13:31:09.859836Z"
    }
   },
   "outputs": [
    {
     "data": {
      "text/plain": [
       "0    22\n",
       "1    35\n",
       "2    58\n",
       "Name: Age, dtype: int64"
      ]
     },
     "execution_count": 164,
     "metadata": {},
     "output_type": "execute_result"
    }
   ],
   "source": [
    "#普通索引和花式索引\n",
    "df['Age']"
   ]
  },
  {
   "cell_type": "code",
   "execution_count": 165,
   "metadata": {
    "ExecuteTime": {
     "end_time": "2024-04-01T13:31:10.689193Z",
     "start_time": "2024-04-01T13:31:10.682315Z"
    }
   },
   "outputs": [
    {
     "data": {
      "text/html": [
       "<div>\n",
       "<style scoped>\n",
       "    .dataframe tbody tr th:only-of-type {\n",
       "        vertical-align: middle;\n",
       "    }\n",
       "\n",
       "    .dataframe tbody tr th {\n",
       "        vertical-align: top;\n",
       "    }\n",
       "\n",
       "    .dataframe thead th {\n",
       "        text-align: right;\n",
       "    }\n",
       "</style>\n",
       "<table border=\"1\" class=\"dataframe\">\n",
       "  <thead>\n",
       "    <tr style=\"text-align: right;\">\n",
       "      <th></th>\n",
       "      <th>Age</th>\n",
       "    </tr>\n",
       "  </thead>\n",
       "  <tbody>\n",
       "    <tr>\n",
       "      <th>0</th>\n",
       "      <td>22</td>\n",
       "    </tr>\n",
       "    <tr>\n",
       "      <th>1</th>\n",
       "      <td>35</td>\n",
       "    </tr>\n",
       "    <tr>\n",
       "      <th>2</th>\n",
       "      <td>58</td>\n",
       "    </tr>\n",
       "  </tbody>\n",
       "</table>\n",
       "</div>"
      ],
      "text/plain": [
       "   Age\n",
       "0   22\n",
       "1   35\n",
       "2   58"
      ]
     },
     "execution_count": 165,
     "metadata": {},
     "output_type": "execute_result"
    }
   ],
   "source": [
    "df[['Age']]"
   ]
  },
  {
   "cell_type": "code",
   "execution_count": null,
   "metadata": {
    "ExecuteTime": {
     "end_time": "2024-04-01T13:33:59.621252Z",
     "start_time": "2024-04-01T13:33:59.616452Z"
    }
   },
   "outputs": [],
   "source": [
    "df.drop(\n",
    "    labels=None, # 指定index或者columns\n",
    "    axis=0,  # 默认按行删除， 1是删除一列\n",
    "    index=None, # 要删除的index\n",
    "    columns=None, # 删除的列名\n",
    "    level=None, # 指定是哪层索引级别（针对多级索引的）\n",
    "    inplace=False, # 是否对原始数据进行就地修改\n",
    "    )"
   ]
  },
  {
   "cell_type": "code",
   "execution_count": 174,
   "metadata": {
    "ExecuteTime": {
     "end_time": "2024-04-01T13:37:05.598919Z",
     "start_time": "2024-04-01T13:37:05.590046Z"
    }
   },
   "outputs": [
    {
     "data": {
      "text/html": [
       "<div>\n",
       "<style scoped>\n",
       "    .dataframe tbody tr th:only-of-type {\n",
       "        vertical-align: middle;\n",
       "    }\n",
       "\n",
       "    .dataframe tbody tr th {\n",
       "        vertical-align: top;\n",
       "    }\n",
       "\n",
       "    .dataframe thead th {\n",
       "        text-align: right;\n",
       "    }\n",
       "</style>\n",
       "<table border=\"1\" class=\"dataframe\">\n",
       "  <thead>\n",
       "    <tr style=\"text-align: right;\">\n",
       "      <th></th>\n",
       "      <th>Name</th>\n",
       "      <th>Age</th>\n",
       "      <th>Sex</th>\n",
       "    </tr>\n",
       "  </thead>\n",
       "  <tbody>\n",
       "    <tr>\n",
       "      <th>0</th>\n",
       "      <td>Braund, Mr. Owen Harris</td>\n",
       "      <td>1</td>\n",
       "      <td>male</td>\n",
       "    </tr>\n",
       "    <tr>\n",
       "      <th>1</th>\n",
       "      <td>Allen, Mr. William Henry</td>\n",
       "      <td>2</td>\n",
       "      <td>male</td>\n",
       "    </tr>\n",
       "    <tr>\n",
       "      <th>2</th>\n",
       "      <td>Bonnell, Miss. Elizabeth</td>\n",
       "      <td>3</td>\n",
       "      <td>female</td>\n",
       "    </tr>\n",
       "  </tbody>\n",
       "</table>\n",
       "</div>"
      ],
      "text/plain": [
       "                       Name  Age     Sex\n",
       "0   Braund, Mr. Owen Harris    1    male\n",
       "1  Allen, Mr. William Henry    2    male\n",
       "2  Bonnell, Miss. Elizabeth    3  female"
      ]
     },
     "execution_count": 174,
     "metadata": {},
     "output_type": "execute_result"
    }
   ],
   "source": [
    "df[\"Age\"] = [1,2,3]\n",
    "df"
   ]
  },
  {
   "cell_type": "code",
   "execution_count": 178,
   "metadata": {
    "ExecuteTime": {
     "end_time": "2024-04-01T13:38:42.073124Z",
     "start_time": "2024-04-01T13:38:42.065599Z"
    }
   },
   "outputs": [
    {
     "data": {
      "text/html": [
       "<div>\n",
       "<style scoped>\n",
       "    .dataframe tbody tr th:only-of-type {\n",
       "        vertical-align: middle;\n",
       "    }\n",
       "\n",
       "    .dataframe tbody tr th {\n",
       "        vertical-align: top;\n",
       "    }\n",
       "\n",
       "    .dataframe thead th {\n",
       "        text-align: right;\n",
       "    }\n",
       "</style>\n",
       "<table border=\"1\" class=\"dataframe\">\n",
       "  <thead>\n",
       "    <tr style=\"text-align: right;\">\n",
       "      <th></th>\n",
       "      <th>Name</th>\n",
       "      <th>Age</th>\n",
       "      <th>Sex</th>\n",
       "    </tr>\n",
       "  </thead>\n",
       "  <tbody>\n",
       "    <tr>\n",
       "      <th>0</th>\n",
       "      <td>Braund, Mr. Owen Harris</td>\n",
       "      <td>1.0</td>\n",
       "      <td>male</td>\n",
       "    </tr>\n",
       "    <tr>\n",
       "      <th>1</th>\n",
       "      <td>Allen, Mr. William Henry</td>\n",
       "      <td>2.0</td>\n",
       "      <td>male</td>\n",
       "    </tr>\n",
       "    <tr>\n",
       "      <th>2</th>\n",
       "      <td>Bonnell, Miss. Elizabeth</td>\n",
       "      <td>3.0</td>\n",
       "      <td>female</td>\n",
       "    </tr>\n",
       "    <tr>\n",
       "      <th>3</th>\n",
       "      <td>Bonnell, Miss. Elizabeth</td>\n",
       "      <td>100.0</td>\n",
       "      <td>female</td>\n",
       "    </tr>\n",
       "  </tbody>\n",
       "</table>\n",
       "</div>"
      ],
      "text/plain": [
       "                       Name    Age     Sex\n",
       "0   Braund, Mr. Owen Harris    1.0    male\n",
       "1  Allen, Mr. William Henry    2.0    male\n",
       "2  Bonnell, Miss. Elizabeth    3.0  female\n",
       "3  Bonnell, Miss. Elizabeth  100.0  female"
      ]
     },
     "execution_count": 178,
     "metadata": {},
     "output_type": "execute_result"
    }
   ],
   "source": [
    "df.loc[3,:] = [\"Bonnell, Miss. Elizabeth\",100,\"female\"]\n",
    "df"
   ]
  },
  {
   "cell_type": "code",
   "execution_count": 180,
   "metadata": {
    "ExecuteTime": {
     "end_time": "2024-04-01T13:39:26.265326Z",
     "start_time": "2024-04-01T13:39:26.254575Z"
    }
   },
   "outputs": [
    {
     "data": {
      "text/html": [
       "<div>\n",
       "<style scoped>\n",
       "    .dataframe tbody tr th:only-of-type {\n",
       "        vertical-align: middle;\n",
       "    }\n",
       "\n",
       "    .dataframe tbody tr th {\n",
       "        vertical-align: top;\n",
       "    }\n",
       "\n",
       "    .dataframe thead th {\n",
       "        text-align: right;\n",
       "    }\n",
       "</style>\n",
       "<table border=\"1\" class=\"dataframe\">\n",
       "  <thead>\n",
       "    <tr style=\"text-align: right;\">\n",
       "      <th></th>\n",
       "      <th>Name</th>\n",
       "      <th>Age</th>\n",
       "      <th>Sex</th>\n",
       "      <th>lwm</th>\n",
       "    </tr>\n",
       "  </thead>\n",
       "  <tbody>\n",
       "    <tr>\n",
       "      <th>0</th>\n",
       "      <td>Braund, Mr. Owen Harris</td>\n",
       "      <td>1.0</td>\n",
       "      <td>male</td>\n",
       "      <td>4</td>\n",
       "    </tr>\n",
       "    <tr>\n",
       "      <th>1</th>\n",
       "      <td>Allen, Mr. William Henry</td>\n",
       "      <td>2.0</td>\n",
       "      <td>male</td>\n",
       "      <td>4</td>\n",
       "    </tr>\n",
       "    <tr>\n",
       "      <th>2</th>\n",
       "      <td>Bonnell, Miss. Elizabeth</td>\n",
       "      <td>3.0</td>\n",
       "      <td>female</td>\n",
       "      <td>4</td>\n",
       "    </tr>\n",
       "    <tr>\n",
       "      <th>3</th>\n",
       "      <td>Bonnell, Miss. Elizabeth</td>\n",
       "      <td>100.0</td>\n",
       "      <td>female</td>\n",
       "      <td>4</td>\n",
       "    </tr>\n",
       "  </tbody>\n",
       "</table>\n",
       "</div>"
      ],
      "text/plain": [
       "                       Name    Age     Sex  lwm\n",
       "0   Braund, Mr. Owen Harris    1.0    male    4\n",
       "1  Allen, Mr. William Henry    2.0    male    4\n",
       "2  Bonnell, Miss. Elizabeth    3.0  female    4\n",
       "3  Bonnell, Miss. Elizabeth  100.0  female    4"
      ]
     },
     "execution_count": 180,
     "metadata": {},
     "output_type": "execute_result"
    }
   ],
   "source": [
    "df['lwm'] = [4,4,4,4]\n",
    "df"
   ]
  },
  {
   "cell_type": "markdown",
   "metadata": {},
   "source": [
    "### 数据合并"
   ]
  },
  {
   "cell_type": "code",
   "execution_count": 182,
   "metadata": {
    "ExecuteTime": {
     "end_time": "2024-04-01T13:41:16.630639Z",
     "start_time": "2024-04-01T13:41:16.625515Z"
    }
   },
   "outputs": [],
   "source": [
    "data1 = df.iloc[:1]\n",
    "data2 = df.iloc[1:]\n",
    "data3 = pd.concat([data1, data2], axis=0)"
   ]
  },
  {
   "cell_type": "code",
   "execution_count": 184,
   "metadata": {
    "ExecuteTime": {
     "end_time": "2024-04-01T13:41:23.124008Z",
     "start_time": "2024-04-01T13:41:23.116195Z"
    }
   },
   "outputs": [
    {
     "data": {
      "text/html": [
       "<div>\n",
       "<style scoped>\n",
       "    .dataframe tbody tr th:only-of-type {\n",
       "        vertical-align: middle;\n",
       "    }\n",
       "\n",
       "    .dataframe tbody tr th {\n",
       "        vertical-align: top;\n",
       "    }\n",
       "\n",
       "    .dataframe thead th {\n",
       "        text-align: right;\n",
       "    }\n",
       "</style>\n",
       "<table border=\"1\" class=\"dataframe\">\n",
       "  <thead>\n",
       "    <tr style=\"text-align: right;\">\n",
       "      <th></th>\n",
       "      <th>Name</th>\n",
       "      <th>Age</th>\n",
       "      <th>Sex</th>\n",
       "      <th>lwm</th>\n",
       "    </tr>\n",
       "  </thead>\n",
       "  <tbody>\n",
       "    <tr>\n",
       "      <th>0</th>\n",
       "      <td>Braund, Mr. Owen Harris</td>\n",
       "      <td>1.0</td>\n",
       "      <td>male</td>\n",
       "      <td>4</td>\n",
       "    </tr>\n",
       "  </tbody>\n",
       "</table>\n",
       "</div>"
      ],
      "text/plain": [
       "                      Name  Age   Sex  lwm\n",
       "0  Braund, Mr. Owen Harris  1.0  male    4"
      ]
     },
     "execution_count": 184,
     "metadata": {},
     "output_type": "execute_result"
    }
   ],
   "source": [
    "data1"
   ]
  },
  {
   "cell_type": "code",
   "execution_count": 185,
   "metadata": {
    "ExecuteTime": {
     "end_time": "2024-04-01T13:41:25.690041Z",
     "start_time": "2024-04-01T13:41:25.682129Z"
    }
   },
   "outputs": [
    {
     "data": {
      "text/html": [
       "<div>\n",
       "<style scoped>\n",
       "    .dataframe tbody tr th:only-of-type {\n",
       "        vertical-align: middle;\n",
       "    }\n",
       "\n",
       "    .dataframe tbody tr th {\n",
       "        vertical-align: top;\n",
       "    }\n",
       "\n",
       "    .dataframe thead th {\n",
       "        text-align: right;\n",
       "    }\n",
       "</style>\n",
       "<table border=\"1\" class=\"dataframe\">\n",
       "  <thead>\n",
       "    <tr style=\"text-align: right;\">\n",
       "      <th></th>\n",
       "      <th>Name</th>\n",
       "      <th>Age</th>\n",
       "      <th>Sex</th>\n",
       "      <th>lwm</th>\n",
       "    </tr>\n",
       "  </thead>\n",
       "  <tbody>\n",
       "    <tr>\n",
       "      <th>1</th>\n",
       "      <td>Allen, Mr. William Henry</td>\n",
       "      <td>2.0</td>\n",
       "      <td>male</td>\n",
       "      <td>4</td>\n",
       "    </tr>\n",
       "    <tr>\n",
       "      <th>2</th>\n",
       "      <td>Bonnell, Miss. Elizabeth</td>\n",
       "      <td>3.0</td>\n",
       "      <td>female</td>\n",
       "      <td>4</td>\n",
       "    </tr>\n",
       "    <tr>\n",
       "      <th>3</th>\n",
       "      <td>Bonnell, Miss. Elizabeth</td>\n",
       "      <td>100.0</td>\n",
       "      <td>female</td>\n",
       "      <td>4</td>\n",
       "    </tr>\n",
       "  </tbody>\n",
       "</table>\n",
       "</div>"
      ],
      "text/plain": [
       "                       Name    Age     Sex  lwm\n",
       "1  Allen, Mr. William Henry    2.0    male    4\n",
       "2  Bonnell, Miss. Elizabeth    3.0  female    4\n",
       "3  Bonnell, Miss. Elizabeth  100.0  female    4"
      ]
     },
     "execution_count": 185,
     "metadata": {},
     "output_type": "execute_result"
    }
   ],
   "source": [
    "data2"
   ]
  },
  {
   "cell_type": "code",
   "execution_count": 186,
   "metadata": {
    "ExecuteTime": {
     "end_time": "2024-04-01T13:41:28.737765Z",
     "start_time": "2024-04-01T13:41:28.729952Z"
    }
   },
   "outputs": [
    {
     "data": {
      "text/html": [
       "<div>\n",
       "<style scoped>\n",
       "    .dataframe tbody tr th:only-of-type {\n",
       "        vertical-align: middle;\n",
       "    }\n",
       "\n",
       "    .dataframe tbody tr th {\n",
       "        vertical-align: top;\n",
       "    }\n",
       "\n",
       "    .dataframe thead th {\n",
       "        text-align: right;\n",
       "    }\n",
       "</style>\n",
       "<table border=\"1\" class=\"dataframe\">\n",
       "  <thead>\n",
       "    <tr style=\"text-align: right;\">\n",
       "      <th></th>\n",
       "      <th>Name</th>\n",
       "      <th>Age</th>\n",
       "      <th>Sex</th>\n",
       "      <th>lwm</th>\n",
       "    </tr>\n",
       "  </thead>\n",
       "  <tbody>\n",
       "    <tr>\n",
       "      <th>0</th>\n",
       "      <td>Braund, Mr. Owen Harris</td>\n",
       "      <td>1.0</td>\n",
       "      <td>male</td>\n",
       "      <td>4</td>\n",
       "    </tr>\n",
       "    <tr>\n",
       "      <th>1</th>\n",
       "      <td>Allen, Mr. William Henry</td>\n",
       "      <td>2.0</td>\n",
       "      <td>male</td>\n",
       "      <td>4</td>\n",
       "    </tr>\n",
       "    <tr>\n",
       "      <th>2</th>\n",
       "      <td>Bonnell, Miss. Elizabeth</td>\n",
       "      <td>3.0</td>\n",
       "      <td>female</td>\n",
       "      <td>4</td>\n",
       "    </tr>\n",
       "    <tr>\n",
       "      <th>3</th>\n",
       "      <td>Bonnell, Miss. Elizabeth</td>\n",
       "      <td>100.0</td>\n",
       "      <td>female</td>\n",
       "      <td>4</td>\n",
       "    </tr>\n",
       "  </tbody>\n",
       "</table>\n",
       "</div>"
      ],
      "text/plain": [
       "                       Name    Age     Sex  lwm\n",
       "0   Braund, Mr. Owen Harris    1.0    male    4\n",
       "1  Allen, Mr. William Henry    2.0    male    4\n",
       "2  Bonnell, Miss. Elizabeth    3.0  female    4\n",
       "3  Bonnell, Miss. Elizabeth  100.0  female    4"
      ]
     },
     "execution_count": 186,
     "metadata": {},
     "output_type": "execute_result"
    }
   ],
   "source": [
    "data3"
   ]
  },
  {
   "cell_type": "code",
   "execution_count": null,
   "metadata": {},
   "outputs": [],
   "source": [
    "#SQL风格的合并。类似于SQL中的JOIN\n",
    "pd.merge()"
   ]
  },
  {
   "cell_type": "markdown",
   "metadata": {},
   "source": [
    "### 数据清洗"
   ]
  },
  {
   "cell_type": "code",
   "execution_count": 187,
   "metadata": {
    "ExecuteTime": {
     "end_time": "2024-04-01T13:43:43.651827Z",
     "start_time": "2024-04-01T13:43:43.637338Z"
    }
   },
   "outputs": [],
   "source": [
    "#去除重复数据，NaN数据\n",
    "df.drop_duplicates(inplace=True)\n",
    "df.dropna(axis=0, inplace=True)"
   ]
  },
  {
   "cell_type": "markdown",
   "metadata": {},
   "source": [
    "### 数据计算"
   ]
  },
  {
   "cell_type": "markdown",
   "metadata": {
    "ExecuteTime": {
     "end_time": "2024-04-01T13:50:40.899307Z",
     "start_time": "2024-04-01T13:50:40.879228Z"
    }
   },
   "source": [
    "基础的聚合函数如max、min、mean、sum等和numpy大差不差，但有一点要注意，参数axis"
   ]
  },
  {
   "cell_type": "code",
   "execution_count": 228,
   "metadata": {
    "ExecuteTime": {
     "end_time": "2024-04-01T14:07:17.122155Z",
     "start_time": "2024-04-01T14:07:17.117169Z"
    }
   },
   "outputs": [],
   "source": [
    "df1 = pd.DataFrame(\n",
    "[\n",
    "    [1,2,3],\n",
    "    [4,5,6]\n",
    "])"
   ]
  },
  {
   "cell_type": "code",
   "execution_count": 229,
   "metadata": {
    "ExecuteTime": {
     "end_time": "2024-04-01T14:07:17.793599Z",
     "start_time": "2024-04-01T14:07:17.787139Z"
    }
   },
   "outputs": [
    {
     "data": {
      "text/plain": [
       "0    2.5\n",
       "1    3.5\n",
       "2    4.5\n",
       "dtype: float64"
      ]
     },
     "execution_count": 229,
     "metadata": {},
     "output_type": "execute_result"
    }
   ],
   "source": [
    "df1.mean()#默认axis = 0"
   ]
  },
  {
   "cell_type": "code",
   "execution_count": 230,
   "metadata": {
    "ExecuteTime": {
     "end_time": "2024-04-01T14:07:19.380808Z",
     "start_time": "2024-04-01T14:07:19.374392Z"
    }
   },
   "outputs": [
    {
     "data": {
      "text/plain": [
       "0    2.0\n",
       "1    5.0\n",
       "dtype: float64"
      ]
     },
     "execution_count": 230,
     "metadata": {},
     "output_type": "execute_result"
    }
   ],
   "source": [
    "df1.mean(axis=1)"
   ]
  },
  {
   "cell_type": "markdown",
   "metadata": {
    "ExecuteTime": {
     "end_time": "2024-04-01T13:45:18.846780Z",
     "start_time": "2024-04-01T13:45:18.842375Z"
    }
   },
   "source": [
    "map、apply、applymap的应用(非常重要)"
   ]
  },
  {
   "cell_type": "code",
   "execution_count": 195,
   "metadata": {
    "ExecuteTime": {
     "end_time": "2024-04-01T13:47:59.248314Z",
     "start_time": "2024-04-01T13:47:59.234968Z"
    }
   },
   "outputs": [
    {
     "data": {
      "text/html": [
       "<div>\n",
       "<style scoped>\n",
       "    .dataframe tbody tr th:only-of-type {\n",
       "        vertical-align: middle;\n",
       "    }\n",
       "\n",
       "    .dataframe tbody tr th {\n",
       "        vertical-align: top;\n",
       "    }\n",
       "\n",
       "    .dataframe thead th {\n",
       "        text-align: right;\n",
       "    }\n",
       "</style>\n",
       "<table border=\"1\" class=\"dataframe\">\n",
       "  <thead>\n",
       "    <tr style=\"text-align: right;\">\n",
       "      <th></th>\n",
       "      <th>Name</th>\n",
       "      <th>Age</th>\n",
       "      <th>Sex</th>\n",
       "      <th>lwm</th>\n",
       "      <th>if_old</th>\n",
       "    </tr>\n",
       "  </thead>\n",
       "  <tbody>\n",
       "    <tr>\n",
       "      <th>0</th>\n",
       "      <td>Braund, Mr. Owen Harris</td>\n",
       "      <td>1.0</td>\n",
       "      <td>male</td>\n",
       "      <td>4</td>\n",
       "      <td>A</td>\n",
       "    </tr>\n",
       "    <tr>\n",
       "      <th>1</th>\n",
       "      <td>Allen, Mr. William Henry</td>\n",
       "      <td>2.0</td>\n",
       "      <td>male</td>\n",
       "      <td>4</td>\n",
       "      <td>A</td>\n",
       "    </tr>\n",
       "    <tr>\n",
       "      <th>2</th>\n",
       "      <td>Bonnell, Miss. Elizabeth</td>\n",
       "      <td>3.0</td>\n",
       "      <td>female</td>\n",
       "      <td>4</td>\n",
       "      <td>B</td>\n",
       "    </tr>\n",
       "    <tr>\n",
       "      <th>3</th>\n",
       "      <td>Bonnell, Miss. Elizabeth</td>\n",
       "      <td>100.0</td>\n",
       "      <td>female</td>\n",
       "      <td>4</td>\n",
       "      <td>B</td>\n",
       "    </tr>\n",
       "  </tbody>\n",
       "</table>\n",
       "</div>"
      ],
      "text/plain": [
       "                       Name    Age     Sex  lwm if_old\n",
       "0   Braund, Mr. Owen Harris    1.0    male    4      A\n",
       "1  Allen, Mr. William Henry    2.0    male    4      A\n",
       "2  Bonnell, Miss. Elizabeth    3.0  female    4      B\n",
       "3  Bonnell, Miss. Elizabeth  100.0  female    4      B"
      ]
     },
     "execution_count": 195,
     "metadata": {},
     "output_type": "execute_result"
    }
   ],
   "source": [
    "#$map()将一个自定义函数应用于Series结构中的每个元素\n",
    "df['if_old'] =  df['Age'].map(lambda x:\"A\" if x<3 else \"B\")\n",
    "df"
   ]
  },
  {
   "cell_type": "code",
   "execution_count": 196,
   "metadata": {
    "ExecuteTime": {
     "end_time": "2024-04-01T13:48:06.869691Z",
     "start_time": "2024-04-01T13:48:06.865978Z"
    }
   },
   "outputs": [],
   "source": [
    "#apply()将一个函数作用于DataFrame中的每个行或者列"
   ]
  },
  {
   "cell_type": "code",
   "execution_count": 205,
   "metadata": {
    "ExecuteTime": {
     "end_time": "2024-04-01T13:53:38.322474Z",
     "start_time": "2024-04-01T13:53:38.300935Z"
    }
   },
   "outputs": [
    {
     "data": {
      "text/html": [
       "<div>\n",
       "<style scoped>\n",
       "    .dataframe tbody tr th:only-of-type {\n",
       "        vertical-align: middle;\n",
       "    }\n",
       "\n",
       "    .dataframe tbody tr th {\n",
       "        vertical-align: top;\n",
       "    }\n",
       "\n",
       "    .dataframe thead th {\n",
       "        text-align: right;\n",
       "    }\n",
       "</style>\n",
       "<table border=\"1\" class=\"dataframe\">\n",
       "  <thead>\n",
       "    <tr style=\"text-align: right;\">\n",
       "      <th></th>\n",
       "      <th>1</th>\n",
       "      <th>2</th>\n",
       "      <th>3</th>\n",
       "    </tr>\n",
       "  </thead>\n",
       "  <tbody>\n",
       "    <tr>\n",
       "      <th>0</th>\n",
       "      <td>2.0</td>\n",
       "      <td>3.0</td>\n",
       "      <td>4.0</td>\n",
       "    </tr>\n",
       "    <tr>\n",
       "      <th>1</th>\n",
       "      <td>2.0</td>\n",
       "      <td>3.0</td>\n",
       "      <td>4.0</td>\n",
       "    </tr>\n",
       "    <tr>\n",
       "      <th>2</th>\n",
       "      <td>2.0</td>\n",
       "      <td>3.0</td>\n",
       "      <td>4.0</td>\n",
       "    </tr>\n",
       "  </tbody>\n",
       "</table>\n",
       "</div>"
      ],
      "text/plain": [
       "     1    2    3\n",
       "0  2.0  3.0  4.0\n",
       "1  2.0  3.0  4.0\n",
       "2  2.0  3.0  4.0"
      ]
     },
     "execution_count": 205,
     "metadata": {},
     "output_type": "execute_result"
    }
   ],
   "source": [
    "df2 = pd.DataFrame(np.ones((3,3)),columns = [1,2,3])\n",
    "df2.apply(lambda x:x+x.name)"
   ]
  },
  {
   "cell_type": "code",
   "execution_count": 206,
   "metadata": {
    "ExecuteTime": {
     "end_time": "2024-04-01T13:54:19.767043Z",
     "start_time": "2024-04-01T13:54:19.757624Z"
    }
   },
   "outputs": [
    {
     "data": {
      "text/html": [
       "<div>\n",
       "<style scoped>\n",
       "    .dataframe tbody tr th:only-of-type {\n",
       "        vertical-align: middle;\n",
       "    }\n",
       "\n",
       "    .dataframe tbody tr th {\n",
       "        vertical-align: top;\n",
       "    }\n",
       "\n",
       "    .dataframe thead th {\n",
       "        text-align: right;\n",
       "    }\n",
       "</style>\n",
       "<table border=\"1\" class=\"dataframe\">\n",
       "  <thead>\n",
       "    <tr style=\"text-align: right;\">\n",
       "      <th></th>\n",
       "      <th>1</th>\n",
       "      <th>2</th>\n",
       "      <th>3</th>\n",
       "    </tr>\n",
       "  </thead>\n",
       "  <tbody>\n",
       "    <tr>\n",
       "      <th>0</th>\n",
       "      <td>1.0A</td>\n",
       "      <td>1.0A</td>\n",
       "      <td>1.0A</td>\n",
       "    </tr>\n",
       "    <tr>\n",
       "      <th>1</th>\n",
       "      <td>1.0A</td>\n",
       "      <td>1.0A</td>\n",
       "      <td>1.0A</td>\n",
       "    </tr>\n",
       "    <tr>\n",
       "      <th>2</th>\n",
       "      <td>1.0A</td>\n",
       "      <td>1.0A</td>\n",
       "      <td>1.0A</td>\n",
       "    </tr>\n",
       "  </tbody>\n",
       "</table>\n",
       "</div>"
      ],
      "text/plain": [
       "      1     2     3\n",
       "0  1.0A  1.0A  1.0A\n",
       "1  1.0A  1.0A  1.0A\n",
       "2  1.0A  1.0A  1.0A"
      ]
     },
     "execution_count": 206,
     "metadata": {},
     "output_type": "execute_result"
    }
   ],
   "source": [
    "#Applymap()将函数做用于DataFrame中的所有元素\n",
    "df2.applymap(lambda x:str(x)+\"A\")"
   ]
  },
  {
   "cell_type": "markdown",
   "metadata": {},
   "source": [
    "这里的介绍只是冰山一角，是一些最常用最基础的操作，在实践中不断使用不断学习，才能够越来越熟练"
   ]
  },
  {
   "cell_type": "markdown",
   "metadata": {},
   "source": [
    "# 拓展"
   ]
  }
 ],
 "metadata": {
  "kernelspec": {
   "display_name": "Python 3 (ipykernel)",
   "language": "python",
   "name": "python3"
  },
  "language_info": {
   "codemirror_mode": {
    "name": "ipython",
    "version": 3
   },
   "file_extension": ".py",
   "mimetype": "text/x-python",
   "name": "python",
   "nbconvert_exporter": "python",
   "pygments_lexer": "ipython3",
   "version": "3.11.4"
  },
  "toc": {
   "base_numbering": 1,
   "nav_menu": {},
   "number_sections": true,
   "sideBar": true,
   "skip_h1_title": false,
   "title_cell": "Table of Contents",
   "title_sidebar": "Contents",
   "toc_cell": false,
   "toc_position": {},
   "toc_section_display": true,
   "toc_window_display": false
  }
 },
 "nbformat": 4,
 "nbformat_minor": 2
}
